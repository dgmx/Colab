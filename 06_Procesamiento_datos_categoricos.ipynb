{
  "cells": [
    {
      "cell_type": "markdown",
      "metadata": {
        "id": "view-in-github",
        "colab_type": "text"
      },
      "source": [
        "<a href=\"https://colab.research.google.com/github/Bart0lo/curso_estadistica_descriptiva/blob/main/06_Procesamiento_datos_categoricos.ipynb\" target=\"_parent\"><img src=\"https://colab.research.google.com/assets/colab-badge.svg\" alt=\"Open In Colab\"/></a>"
      ]
    },
    {
      "cell_type": "markdown",
      "metadata": {
        "cell_id": "c8154a932c5f4ec88b6043e0b7c5f658",
        "deepnote_cell_type": "markdown",
        "id": "caxZOy6QDXDj"
      },
      "source": [
        "# Procesamiento de variables categóricas\n",
        "\n",
        "Para que sean facilmente interpretables\n",
        "\n",
        "Se sigue la idea de que hay que volver numéricas las variables categóricas\n",
        "\n",
        "## Mapeos numéricos\n",
        "\n",
        "* ### Dummy\n",
        "    * Representación compacta\n",
        "    * Mejor para inputs _linealmente independientes_(que no tienen un grado de correlación)\n",
        "\n",
        "* ### One-hot\n",
        "    * Permite descirbir categorías no incluidas inicialmente"
      ]
    },
    {
      "cell_type": "code",
      "metadata": {
        "tags": [],
        "cell_id": "1e023887970644c0b331a2bdd66f4b90",
        "source_hash": "3c9f139f",
        "execution_start": 1683300894072,
        "execution_millis": 1,
        "deepnote_to_be_reexecuted": false,
        "deepnote_cell_type": "code",
        "id": "Hi4RXduLDXD-"
      },
      "source": [
        "#Importamos la librería\n",
        "\n",
        "import pandas as pd\n"
      ],
      "execution_count": null,
      "outputs": []
    },
    {
      "cell_type": "code",
      "metadata": {
        "cell_id": "64ca3ddc51eb4d7ead7fc505b159da04",
        "source_hash": "7eea0e6",
        "execution_start": 1683300897002,
        "execution_millis": 451,
        "deepnote_to_be_reexecuted": false,
        "deepnote_cell_type": "code",
        "id": "dQPYcsjWDXEB",
        "outputId": "48924324-e224-41b6-fbb6-d5fa196ea02b"
      },
      "source": [
        "#Leemos el df con pandas\n",
        "\n",
        "cars = pd.read_csv('/work/platzi-curso-estadistica-descriptiva-2021/cars.csv')\n",
        "cars.head()"
      ],
      "execution_count": null,
      "outputs": [
        {
          "output_type": "execute_result",
          "execution_count": 3,
          "data": {
            "application/vnd.deepnote.dataframe.v3+json": {
              "column_count": 30,
              "row_count": 5,
              "columns": [
                {
                  "name": "manufacturer_name",
                  "dtype": "object",
                  "stats": {
                    "unique_count": 1,
                    "nan_count": 0,
                    "categories": [
                      {
                        "name": "Subaru",
                        "count": 5
                      }
                    ]
                  }
                },
                {
                  "name": "model_name",
                  "dtype": "object",
                  "stats": {
                    "unique_count": 4,
                    "nan_count": 0,
                    "categories": [
                      {
                        "name": "Outback",
                        "count": 2
                      },
                      {
                        "name": "Forester",
                        "count": 1
                      },
                      {
                        "name": "2 others",
                        "count": 2
                      }
                    ]
                  }
                },
                {
                  "name": "transmission",
                  "dtype": "object",
                  "stats": {
                    "unique_count": 2,
                    "nan_count": 0,
                    "categories": [
                      {
                        "name": "automatic",
                        "count": 4
                      },
                      {
                        "name": "mechanical",
                        "count": 1
                      }
                    ]
                  }
                },
                {
                  "name": "color",
                  "dtype": "object",
                  "stats": {
                    "unique_count": 4,
                    "nan_count": 0,
                    "categories": [
                      {
                        "name": "blue",
                        "count": 2
                      },
                      {
                        "name": "silver",
                        "count": 1
                      },
                      {
                        "name": "2 others",
                        "count": 2
                      }
                    ]
                  }
                },
                {
                  "name": "odometer_value",
                  "dtype": "int64",
                  "stats": {
                    "unique_count": 5,
                    "nan_count": 0,
                    "min": "10000",
                    "max": "402000",
                    "histogram": [
                      {
                        "bin_start": 10000,
                        "bin_end": 49200,
                        "count": 1
                      },
                      {
                        "bin_start": 49200,
                        "bin_end": 88400,
                        "count": 0
                      },
                      {
                        "bin_start": 88400,
                        "bin_end": 127600,
                        "count": 0
                      },
                      {
                        "bin_start": 127600,
                        "bin_end": 166800,
                        "count": 0
                      },
                      {
                        "bin_start": 166800,
                        "bin_end": 206000,
                        "count": 1
                      },
                      {
                        "bin_start": 206000,
                        "bin_end": 245200,
                        "count": 0
                      },
                      {
                        "bin_start": 245200,
                        "bin_end": 284400,
                        "count": 1
                      },
                      {
                        "bin_start": 284400,
                        "bin_end": 323600,
                        "count": 1
                      },
                      {
                        "bin_start": 323600,
                        "bin_end": 362800,
                        "count": 0
                      },
                      {
                        "bin_start": 362800,
                        "bin_end": 402000,
                        "count": 1
                      }
                    ]
                  }
                },
                {
                  "name": "year_produced",
                  "dtype": "int64",
                  "stats": {
                    "unique_count": 4,
                    "nan_count": 0,
                    "min": "1999",
                    "max": "2010",
                    "histogram": [
                      {
                        "bin_start": 1999,
                        "bin_end": 2000.1,
                        "count": 1
                      },
                      {
                        "bin_start": 2000.1,
                        "bin_end": 2001.2,
                        "count": 2
                      },
                      {
                        "bin_start": 2001.2,
                        "bin_end": 2002.3,
                        "count": 1
                      },
                      {
                        "bin_start": 2002.3,
                        "bin_end": 2003.4,
                        "count": 0
                      },
                      {
                        "bin_start": 2003.4,
                        "bin_end": 2004.5,
                        "count": 0
                      },
                      {
                        "bin_start": 2004.5,
                        "bin_end": 2005.6,
                        "count": 0
                      },
                      {
                        "bin_start": 2005.6,
                        "bin_end": 2006.7,
                        "count": 0
                      },
                      {
                        "bin_start": 2006.7,
                        "bin_end": 2007.8,
                        "count": 0
                      },
                      {
                        "bin_start": 2007.8,
                        "bin_end": 2008.9,
                        "count": 0
                      },
                      {
                        "bin_start": 2008.9,
                        "bin_end": 2010,
                        "count": 1
                      }
                    ]
                  }
                },
                {
                  "name": "engine_fuel",
                  "dtype": "object",
                  "stats": {
                    "unique_count": 1,
                    "nan_count": 0,
                    "categories": [
                      {
                        "name": "gasoline",
                        "count": 5
                      }
                    ]
                  }
                },
                {
                  "name": "engine_has_gas",
                  "dtype": "bool",
                  "stats": {
                    "unique_count": 1,
                    "nan_count": 0,
                    "categories": [
                      {
                        "name": "False",
                        "count": 5
                      }
                    ]
                  }
                },
                {
                  "name": "engine_type",
                  "dtype": "object",
                  "stats": {
                    "unique_count": 1,
                    "nan_count": 0,
                    "categories": [
                      {
                        "name": "gasoline",
                        "count": 5
                      }
                    ]
                  }
                },
                {
                  "name": "engine_capacity",
                  "dtype": "float64",
                  "stats": {
                    "unique_count": 2,
                    "nan_count": 0,
                    "min": "2.5",
                    "max": "3.0",
                    "histogram": [
                      {
                        "bin_start": 2.5,
                        "bin_end": 2.55,
                        "count": 3
                      },
                      {
                        "bin_start": 2.55,
                        "bin_end": 2.6,
                        "count": 0
                      },
                      {
                        "bin_start": 2.6,
                        "bin_end": 2.65,
                        "count": 0
                      },
                      {
                        "bin_start": 2.65,
                        "bin_end": 2.7,
                        "count": 0
                      },
                      {
                        "bin_start": 2.7,
                        "bin_end": 2.75,
                        "count": 0
                      },
                      {
                        "bin_start": 2.75,
                        "bin_end": 2.8,
                        "count": 0
                      },
                      {
                        "bin_start": 2.8,
                        "bin_end": 2.85,
                        "count": 0
                      },
                      {
                        "bin_start": 2.85,
                        "bin_end": 2.9,
                        "count": 0
                      },
                      {
                        "bin_start": 2.9,
                        "bin_end": 2.95,
                        "count": 0
                      },
                      {
                        "bin_start": 2.95,
                        "bin_end": 3,
                        "count": 2
                      }
                    ]
                  }
                },
                {
                  "name": "body_type",
                  "dtype": "object",
                  "stats": {
                    "unique_count": 3,
                    "nan_count": 0,
                    "categories": [
                      {
                        "name": "universal",
                        "count": 3
                      },
                      {
                        "name": "suv",
                        "count": 1
                      },
                      {
                        "name": "sedan",
                        "count": 1
                      }
                    ]
                  }
                },
                {
                  "name": "has_warranty",
                  "dtype": "bool",
                  "stats": {
                    "unique_count": 1,
                    "nan_count": 0,
                    "categories": [
                      {
                        "name": "False",
                        "count": 5
                      }
                    ]
                  }
                },
                {
                  "name": "state",
                  "dtype": "object",
                  "stats": {
                    "unique_count": 1,
                    "nan_count": 0,
                    "categories": [
                      {
                        "name": "owned",
                        "count": 5
                      }
                    ]
                  }
                },
                {
                  "name": "drivetrain",
                  "dtype": "object",
                  "stats": {
                    "unique_count": 1,
                    "nan_count": 0,
                    "categories": [
                      {
                        "name": "all",
                        "count": 5
                      }
                    ]
                  }
                },
                {
                  "name": "price_usd",
                  "dtype": "float64",
                  "stats": {
                    "unique_count": 5,
                    "nan_count": 0,
                    "min": "2134.11",
                    "max": "10900.0",
                    "histogram": [
                      {
                        "bin_start": 2134.11,
                        "bin_end": 3010.699,
                        "count": 2
                      },
                      {
                        "bin_start": 3010.699,
                        "bin_end": 3887.288,
                        "count": 0
                      },
                      {
                        "bin_start": 3887.288,
                        "bin_end": 4763.877,
                        "count": 0
                      },
                      {
                        "bin_start": 4763.877,
                        "bin_end": 5640.466,
                        "count": 1
                      },
                      {
                        "bin_start": 5640.466,
                        "bin_end": 6517.055,
                        "count": 0
                      },
                      {
                        "bin_start": 6517.055,
                        "bin_end": 7393.644,
                        "count": 0
                      },
                      {
                        "bin_start": 7393.644,
                        "bin_end": 8270.233,
                        "count": 0
                      },
                      {
                        "bin_start": 8270.233,
                        "bin_end": 9146.822,
                        "count": 0
                      },
                      {
                        "bin_start": 9146.822,
                        "bin_end": 10023.411,
                        "count": 1
                      },
                      {
                        "bin_start": 10023.411,
                        "bin_end": 10900,
                        "count": 1
                      }
                    ]
                  }
                },
                {
                  "name": "is_exchangeable",
                  "dtype": "bool",
                  "stats": {
                    "unique_count": 2,
                    "nan_count": 0,
                    "categories": [
                      {
                        "name": "True",
                        "count": 4
                      },
                      {
                        "name": "False",
                        "count": 1
                      }
                    ]
                  }
                },
                {
                  "name": "location_region",
                  "dtype": "object",
                  "stats": {
                    "unique_count": 2,
                    "nan_count": 0,
                    "categories": [
                      {
                        "name": "Минская обл.",
                        "count": 4
                      },
                      {
                        "name": "Гомельская обл.",
                        "count": 1
                      }
                    ]
                  }
                },
                {
                  "name": "number_of_photos",
                  "dtype": "int64",
                  "stats": {
                    "unique_count": 4,
                    "nan_count": 0,
                    "min": "4",
                    "max": "14",
                    "histogram": [
                      {
                        "bin_start": 4,
                        "bin_end": 5,
                        "count": 1
                      },
                      {
                        "bin_start": 5,
                        "bin_end": 6,
                        "count": 0
                      },
                      {
                        "bin_start": 6,
                        "bin_end": 7,
                        "count": 0
                      },
                      {
                        "bin_start": 7,
                        "bin_end": 8,
                        "count": 0
                      },
                      {
                        "bin_start": 8,
                        "bin_end": 9,
                        "count": 0
                      },
                      {
                        "bin_start": 9,
                        "bin_end": 10,
                        "count": 2
                      },
                      {
                        "bin_start": 10,
                        "bin_end": 11,
                        "count": 0
                      },
                      {
                        "bin_start": 11,
                        "bin_end": 12,
                        "count": 0
                      },
                      {
                        "bin_start": 12,
                        "bin_end": 13,
                        "count": 1
                      },
                      {
                        "bin_start": 13,
                        "bin_end": 14,
                        "count": 1
                      }
                    ]
                  }
                },
                {
                  "name": "up_counter",
                  "dtype": "int64",
                  "stats": {
                    "unique_count": 5,
                    "nan_count": 0,
                    "min": "7",
                    "max": "72",
                    "histogram": [
                      {
                        "bin_start": 7,
                        "bin_end": 13.5,
                        "count": 2
                      },
                      {
                        "bin_start": 13.5,
                        "bin_end": 20,
                        "count": 0
                      },
                      {
                        "bin_start": 20,
                        "bin_end": 26.5,
                        "count": 0
                      },
                      {
                        "bin_start": 26.5,
                        "bin_end": 33,
                        "count": 0
                      },
                      {
                        "bin_start": 33,
                        "bin_end": 39.5,
                        "count": 0
                      },
                      {
                        "bin_start": 39.5,
                        "bin_end": 46,
                        "count": 1
                      },
                      {
                        "bin_start": 46,
                        "bin_end": 52.5,
                        "count": 0
                      },
                      {
                        "bin_start": 52.5,
                        "bin_end": 59,
                        "count": 1
                      },
                      {
                        "bin_start": 59,
                        "bin_end": 65.5,
                        "count": 0
                      },
                      {
                        "bin_start": 65.5,
                        "bin_end": 72,
                        "count": 1
                      }
                    ]
                  }
                },
                {
                  "name": "feature_0",
                  "dtype": "bool",
                  "stats": {
                    "unique_count": 2,
                    "nan_count": 0,
                    "categories": [
                      {
                        "name": "False",
                        "count": 4
                      },
                      {
                        "name": "True",
                        "count": 1
                      }
                    ]
                  }
                },
                {
                  "name": "feature_1",
                  "dtype": "bool",
                  "stats": {
                    "unique_count": 2,
                    "nan_count": 0,
                    "categories": [
                      {
                        "name": "True",
                        "count": 4
                      },
                      {
                        "name": "False",
                        "count": 1
                      }
                    ]
                  }
                },
                {
                  "name": "feature_2",
                  "dtype": "bool",
                  "stats": {
                    "unique_count": 2,
                    "nan_count": 0,
                    "categories": [
                      {
                        "name": "False",
                        "count": 4
                      },
                      {
                        "name": "True",
                        "count": 1
                      }
                    ]
                  }
                },
                {
                  "name": "feature_3",
                  "dtype": "bool",
                  "stats": {
                    "unique_count": 2,
                    "nan_count": 0,
                    "categories": [
                      {
                        "name": "False",
                        "count": 3
                      },
                      {
                        "name": "True",
                        "count": 2
                      }
                    ]
                  }
                },
                {
                  "name": "feature_4",
                  "dtype": "bool",
                  "stats": {
                    "unique_count": 2,
                    "nan_count": 0,
                    "categories": [
                      {
                        "name": "False",
                        "count": 3
                      },
                      {
                        "name": "True",
                        "count": 2
                      }
                    ]
                  }
                },
                {
                  "name": "feature_5",
                  "dtype": "bool",
                  "stats": {
                    "unique_count": 2,
                    "nan_count": 0,
                    "categories": [
                      {
                        "name": "False",
                        "count": 3
                      },
                      {
                        "name": "True",
                        "count": 2
                      }
                    ]
                  }
                },
                {
                  "name": "feature_6",
                  "dtype": "bool",
                  "stats": {
                    "unique_count": 1,
                    "nan_count": 0,
                    "categories": [
                      {
                        "name": "False",
                        "count": 5
                      }
                    ]
                  }
                },
                {
                  "name": "feature_7",
                  "dtype": "bool",
                  "stats": {
                    "unique_count": 2,
                    "nan_count": 0,
                    "categories": [
                      {
                        "name": "False",
                        "count": 4
                      },
                      {
                        "name": "True",
                        "count": 1
                      }
                    ]
                  }
                },
                {
                  "name": "feature_8",
                  "dtype": "bool",
                  "stats": {
                    "unique_count": 2,
                    "nan_count": 0,
                    "categories": [
                      {
                        "name": "False",
                        "count": 3
                      },
                      {
                        "name": "True",
                        "count": 2
                      }
                    ]
                  }
                },
                {
                  "name": "feature_9",
                  "dtype": "bool",
                  "stats": {
                    "unique_count": 2,
                    "nan_count": 0,
                    "categories": [
                      {
                        "name": "True",
                        "count": 4
                      },
                      {
                        "name": "False",
                        "count": 1
                      }
                    ]
                  }
                },
                {
                  "name": "duration_listed",
                  "dtype": "int64",
                  "stats": {
                    "unique_count": 5,
                    "nan_count": 0,
                    "min": "7",
                    "max": "151",
                    "histogram": [
                      {
                        "bin_start": 7,
                        "bin_end": 21.4,
                        "count": 2
                      },
                      {
                        "bin_start": 21.4,
                        "bin_end": 35.8,
                        "count": 0
                      },
                      {
                        "bin_start": 35.8,
                        "bin_end": 50.2,
                        "count": 0
                      },
                      {
                        "bin_start": 50.2,
                        "bin_end": 64.6,
                        "count": 0
                      },
                      {
                        "bin_start": 64.6,
                        "bin_end": 79,
                        "count": 0
                      },
                      {
                        "bin_start": 79,
                        "bin_end": 93.4,
                        "count": 2
                      },
                      {
                        "bin_start": 93.4,
                        "bin_end": 107.8,
                        "count": 0
                      },
                      {
                        "bin_start": 107.8,
                        "bin_end": 122.2,
                        "count": 0
                      },
                      {
                        "bin_start": 122.2,
                        "bin_end": 136.6,
                        "count": 0
                      },
                      {
                        "bin_start": 136.6,
                        "bin_end": 151,
                        "count": 1
                      }
                    ]
                  }
                },
                {
                  "name": "_deepnote_index_column",
                  "dtype": "int64"
                }
              ],
              "rows": [
                {
                  "manufacturer_name": "Subaru",
                  "model_name": "Outback",
                  "transmission": "automatic",
                  "color": "silver",
                  "odometer_value": "190000",
                  "year_produced": "2010",
                  "engine_fuel": "gasoline",
                  "engine_has_gas": "False",
                  "engine_type": "gasoline",
                  "engine_capacity": "2.5",
                  "body_type": "universal",
                  "has_warranty": "False",
                  "state": "owned",
                  "drivetrain": "all",
                  "price_usd": "10900.0",
                  "is_exchangeable": "False",
                  "location_region": "Минская обл.",
                  "number_of_photos": "9",
                  "up_counter": "13",
                  "feature_0": "False",
                  "feature_1": "True",
                  "feature_2": "True",
                  "feature_3": "True",
                  "feature_4": "False",
                  "feature_5": "True",
                  "feature_6": "False",
                  "feature_7": "True",
                  "feature_8": "True",
                  "feature_9": "True",
                  "duration_listed": "16",
                  "_deepnote_index_column": "0"
                },
                {
                  "manufacturer_name": "Subaru",
                  "model_name": "Outback",
                  "transmission": "automatic",
                  "color": "blue",
                  "odometer_value": "290000",
                  "year_produced": "2002",
                  "engine_fuel": "gasoline",
                  "engine_has_gas": "False",
                  "engine_type": "gasoline",
                  "engine_capacity": "3.0",
                  "body_type": "universal",
                  "has_warranty": "False",
                  "state": "owned",
                  "drivetrain": "all",
                  "price_usd": "5000.0",
                  "is_exchangeable": "True",
                  "location_region": "Минская обл.",
                  "number_of_photos": "12",
                  "up_counter": "54",
                  "feature_0": "False",
                  "feature_1": "True",
                  "feature_2": "False",
                  "feature_3": "False",
                  "feature_4": "True",
                  "feature_5": "True",
                  "feature_6": "False",
                  "feature_7": "False",
                  "feature_8": "False",
                  "feature_9": "True",
                  "duration_listed": "83",
                  "_deepnote_index_column": "1"
                },
                {
                  "manufacturer_name": "Subaru",
                  "model_name": "Forester",
                  "transmission": "automatic",
                  "color": "red",
                  "odometer_value": "402000",
                  "year_produced": "2001",
                  "engine_fuel": "gasoline",
                  "engine_has_gas": "False",
                  "engine_type": "gasoline",
                  "engine_capacity": "2.5",
                  "body_type": "suv",
                  "has_warranty": "False",
                  "state": "owned",
                  "drivetrain": "all",
                  "price_usd": "2800.0",
                  "is_exchangeable": "True",
                  "location_region": "Минская обл.",
                  "number_of_photos": "4",
                  "up_counter": "72",
                  "feature_0": "False",
                  "feature_1": "True",
                  "feature_2": "False",
                  "feature_3": "False",
                  "feature_4": "False",
                  "feature_5": "False",
                  "feature_6": "False",
                  "feature_7": "False",
                  "feature_8": "True",
                  "feature_9": "True",
                  "duration_listed": "151",
                  "_deepnote_index_column": "2"
                },
                {
                  "manufacturer_name": "Subaru",
                  "model_name": "Impreza",
                  "transmission": "mechanical",
                  "color": "blue",
                  "odometer_value": "10000",
                  "year_produced": "1999",
                  "engine_fuel": "gasoline",
                  "engine_has_gas": "False",
                  "engine_type": "gasoline",
                  "engine_capacity": "3.0",
                  "body_type": "sedan",
                  "has_warranty": "False",
                  "state": "owned",
                  "drivetrain": "all",
                  "price_usd": "9999.0",
                  "is_exchangeable": "True",
                  "location_region": "Минская обл.",
                  "number_of_photos": "9",
                  "up_counter": "42",
                  "feature_0": "True",
                  "feature_1": "False",
                  "feature_2": "False",
                  "feature_3": "False",
                  "feature_4": "False",
                  "feature_5": "False",
                  "feature_6": "False",
                  "feature_7": "False",
                  "feature_8": "False",
                  "feature_9": "False",
                  "duration_listed": "86",
                  "_deepnote_index_column": "3"
                },
                {
                  "manufacturer_name": "Subaru",
                  "model_name": "Legacy",
                  "transmission": "automatic",
                  "color": "black",
                  "odometer_value": "280000",
                  "year_produced": "2001",
                  "engine_fuel": "gasoline",
                  "engine_has_gas": "False",
                  "engine_type": "gasoline",
                  "engine_capacity": "2.5",
                  "body_type": "universal",
                  "has_warranty": "False",
                  "state": "owned",
                  "drivetrain": "all",
                  "price_usd": "2134.11",
                  "is_exchangeable": "True",
                  "location_region": "Гомельская обл.",
                  "number_of_photos": "14",
                  "up_counter": "7",
                  "feature_0": "False",
                  "feature_1": "True",
                  "feature_2": "False",
                  "feature_3": "True",
                  "feature_4": "True",
                  "feature_5": "False",
                  "feature_6": "False",
                  "feature_7": "False",
                  "feature_8": "False",
                  "feature_9": "True",
                  "duration_listed": "7",
                  "_deepnote_index_column": "4"
                }
              ]
            },
            "text/plain": "  manufacturer_name model_name transmission   color  odometer_value  \\\n0            Subaru    Outback    automatic  silver          190000   \n1            Subaru    Outback    automatic    blue          290000   \n2            Subaru   Forester    automatic     red          402000   \n3            Subaru    Impreza   mechanical    blue           10000   \n4            Subaru     Legacy    automatic   black          280000   \n\n   year_produced engine_fuel  engine_has_gas engine_type  engine_capacity  \\\n0           2010    gasoline           False    gasoline              2.5   \n1           2002    gasoline           False    gasoline              3.0   \n2           2001    gasoline           False    gasoline              2.5   \n3           1999    gasoline           False    gasoline              3.0   \n4           2001    gasoline           False    gasoline              2.5   \n\n   ... feature_1  feature_2 feature_3 feature_4  feature_5  feature_6  \\\n0  ...      True       True      True     False       True      False   \n1  ...      True      False     False      True       True      False   \n2  ...      True      False     False     False      False      False   \n3  ...     False      False     False     False      False      False   \n4  ...      True      False      True      True      False      False   \n\n  feature_7  feature_8  feature_9  duration_listed  \n0      True       True       True               16  \n1     False      False       True               83  \n2     False       True       True              151  \n3     False      False      False               86  \n4     False      False       True                7  \n\n[5 rows x 30 columns]",
            "text/html": "<div>\n<style scoped>\n    .dataframe tbody tr th:only-of-type {\n        vertical-align: middle;\n    }\n\n    .dataframe tbody tr th {\n        vertical-align: top;\n    }\n\n    .dataframe thead th {\n        text-align: right;\n    }\n</style>\n<table border=\"1\" class=\"dataframe\">\n  <thead>\n    <tr style=\"text-align: right;\">\n      <th></th>\n      <th>manufacturer_name</th>\n      <th>model_name</th>\n      <th>transmission</th>\n      <th>color</th>\n      <th>odometer_value</th>\n      <th>year_produced</th>\n      <th>engine_fuel</th>\n      <th>engine_has_gas</th>\n      <th>engine_type</th>\n      <th>engine_capacity</th>\n      <th>...</th>\n      <th>feature_1</th>\n      <th>feature_2</th>\n      <th>feature_3</th>\n      <th>feature_4</th>\n      <th>feature_5</th>\n      <th>feature_6</th>\n      <th>feature_7</th>\n      <th>feature_8</th>\n      <th>feature_9</th>\n      <th>duration_listed</th>\n    </tr>\n  </thead>\n  <tbody>\n    <tr>\n      <th>0</th>\n      <td>Subaru</td>\n      <td>Outback</td>\n      <td>automatic</td>\n      <td>silver</td>\n      <td>190000</td>\n      <td>2010</td>\n      <td>gasoline</td>\n      <td>False</td>\n      <td>gasoline</td>\n      <td>2.5</td>\n      <td>...</td>\n      <td>True</td>\n      <td>True</td>\n      <td>True</td>\n      <td>False</td>\n      <td>True</td>\n      <td>False</td>\n      <td>True</td>\n      <td>True</td>\n      <td>True</td>\n      <td>16</td>\n    </tr>\n    <tr>\n      <th>1</th>\n      <td>Subaru</td>\n      <td>Outback</td>\n      <td>automatic</td>\n      <td>blue</td>\n      <td>290000</td>\n      <td>2002</td>\n      <td>gasoline</td>\n      <td>False</td>\n      <td>gasoline</td>\n      <td>3.0</td>\n      <td>...</td>\n      <td>True</td>\n      <td>False</td>\n      <td>False</td>\n      <td>True</td>\n      <td>True</td>\n      <td>False</td>\n      <td>False</td>\n      <td>False</td>\n      <td>True</td>\n      <td>83</td>\n    </tr>\n    <tr>\n      <th>2</th>\n      <td>Subaru</td>\n      <td>Forester</td>\n      <td>automatic</td>\n      <td>red</td>\n      <td>402000</td>\n      <td>2001</td>\n      <td>gasoline</td>\n      <td>False</td>\n      <td>gasoline</td>\n      <td>2.5</td>\n      <td>...</td>\n      <td>True</td>\n      <td>False</td>\n      <td>False</td>\n      <td>False</td>\n      <td>False</td>\n      <td>False</td>\n      <td>False</td>\n      <td>True</td>\n      <td>True</td>\n      <td>151</td>\n    </tr>\n    <tr>\n      <th>3</th>\n      <td>Subaru</td>\n      <td>Impreza</td>\n      <td>mechanical</td>\n      <td>blue</td>\n      <td>10000</td>\n      <td>1999</td>\n      <td>gasoline</td>\n      <td>False</td>\n      <td>gasoline</td>\n      <td>3.0</td>\n      <td>...</td>\n      <td>False</td>\n      <td>False</td>\n      <td>False</td>\n      <td>False</td>\n      <td>False</td>\n      <td>False</td>\n      <td>False</td>\n      <td>False</td>\n      <td>False</td>\n      <td>86</td>\n    </tr>\n    <tr>\n      <th>4</th>\n      <td>Subaru</td>\n      <td>Legacy</td>\n      <td>automatic</td>\n      <td>black</td>\n      <td>280000</td>\n      <td>2001</td>\n      <td>gasoline</td>\n      <td>False</td>\n      <td>gasoline</td>\n      <td>2.5</td>\n      <td>...</td>\n      <td>True</td>\n      <td>False</td>\n      <td>True</td>\n      <td>True</td>\n      <td>False</td>\n      <td>False</td>\n      <td>False</td>\n      <td>False</td>\n      <td>True</td>\n      <td>7</td>\n    </tr>\n  </tbody>\n</table>\n<p>5 rows × 30 columns</p>\n</div>"
          },
          "metadata": {}
        }
      ]
    },
    {
      "cell_type": "markdown",
      "metadata": {
        "tags": [],
        "cell_id": "13df96e0b7f2426985291e10018c0ea4",
        "deepnote_cell_type": "markdown",
        "id": "ba9Ee-YaDXEE"
      },
      "source": [
        "Pandas dummies: https://pandas.pydata.org/docs/reference/api/pandas.get_dummies.html"
      ]
    },
    {
      "cell_type": "markdown",
      "metadata": {
        "cell_id": "8745f70352d84c1f8afce7fc612f5dec",
        "deepnote_cell_type": "markdown",
        "id": "hOEb88XwDXEF"
      },
      "source": [
        "En pandas `get_dummies` en realidad funciona como _one-hot_"
      ]
    },
    {
      "cell_type": "code",
      "metadata": {
        "tags": [],
        "cell_id": "2f4bd177f08747eaafe83a8ad814a5f3",
        "source_hash": "35eaa6c2",
        "output_cleared": false,
        "execution_start": 1683300962594,
        "execution_millis": 235,
        "deepnote_table_state": {
          "sortBy": [],
          "filters": [],
          "pageSize": 10,
          "pageIndex": 0
        },
        "deepnote_table_loading": false,
        "deepnote_to_be_reexecuted": false,
        "deepnote_cell_type": "code",
        "id": "ZIaJ0-ZODXEG",
        "outputId": "5fafe93d-3362-4e95-b57b-b44b055b6472"
      },
      "source": [
        "pd.get_dummies(cars['engine_type'])"
      ],
      "execution_count": null,
      "outputs": [
        {
          "output_type": "execute_result",
          "execution_count": 6,
          "data": {
            "application/vnd.deepnote.dataframe.v3+json": {
              "column_count": 3,
              "row_count": 38531,
              "columns": [
                {
                  "name": "diesel",
                  "dtype": "uint8",
                  "stats": {
                    "unique_count": 2,
                    "nan_count": 0,
                    "min": "0",
                    "max": "1",
                    "histogram": [
                      {
                        "bin_start": 0,
                        "bin_end": 0.1,
                        "count": 25657
                      },
                      {
                        "bin_start": 0.1,
                        "bin_end": 0.2,
                        "count": 0
                      },
                      {
                        "bin_start": 0.2,
                        "bin_end": 0.30000000000000004,
                        "count": 0
                      },
                      {
                        "bin_start": 0.30000000000000004,
                        "bin_end": 0.4,
                        "count": 0
                      },
                      {
                        "bin_start": 0.4,
                        "bin_end": 0.5,
                        "count": 0
                      },
                      {
                        "bin_start": 0.5,
                        "bin_end": 0.6000000000000001,
                        "count": 0
                      },
                      {
                        "bin_start": 0.6000000000000001,
                        "bin_end": 0.7000000000000001,
                        "count": 0
                      },
                      {
                        "bin_start": 0.7000000000000001,
                        "bin_end": 0.8,
                        "count": 0
                      },
                      {
                        "bin_start": 0.8,
                        "bin_end": 0.9,
                        "count": 0
                      },
                      {
                        "bin_start": 0.9,
                        "bin_end": 1,
                        "count": 12874
                      }
                    ]
                  }
                },
                {
                  "name": "electric",
                  "dtype": "uint8",
                  "stats": {
                    "unique_count": 2,
                    "nan_count": 0,
                    "min": "0",
                    "max": "1",
                    "histogram": [
                      {
                        "bin_start": 0,
                        "bin_end": 0.1,
                        "count": 38521
                      },
                      {
                        "bin_start": 0.1,
                        "bin_end": 0.2,
                        "count": 0
                      },
                      {
                        "bin_start": 0.2,
                        "bin_end": 0.30000000000000004,
                        "count": 0
                      },
                      {
                        "bin_start": 0.30000000000000004,
                        "bin_end": 0.4,
                        "count": 0
                      },
                      {
                        "bin_start": 0.4,
                        "bin_end": 0.5,
                        "count": 0
                      },
                      {
                        "bin_start": 0.5,
                        "bin_end": 0.6000000000000001,
                        "count": 0
                      },
                      {
                        "bin_start": 0.6000000000000001,
                        "bin_end": 0.7000000000000001,
                        "count": 0
                      },
                      {
                        "bin_start": 0.7000000000000001,
                        "bin_end": 0.8,
                        "count": 0
                      },
                      {
                        "bin_start": 0.8,
                        "bin_end": 0.9,
                        "count": 0
                      },
                      {
                        "bin_start": 0.9,
                        "bin_end": 1,
                        "count": 10
                      }
                    ]
                  }
                },
                {
                  "name": "gasoline",
                  "dtype": "uint8"
                },
                {
                  "name": "_deepnote_index_column",
                  "dtype": "int64"
                }
              ],
              "rows": [
                {
                  "diesel": "0",
                  "electric": "0",
                  "gasoline": "1",
                  "_deepnote_index_column": "0"
                },
                {
                  "diesel": "0",
                  "electric": "0",
                  "gasoline": "1",
                  "_deepnote_index_column": "1"
                },
                {
                  "diesel": "0",
                  "electric": "0",
                  "gasoline": "1",
                  "_deepnote_index_column": "2"
                },
                {
                  "diesel": "0",
                  "electric": "0",
                  "gasoline": "1",
                  "_deepnote_index_column": "3"
                },
                {
                  "diesel": "0",
                  "electric": "0",
                  "gasoline": "1",
                  "_deepnote_index_column": "4"
                },
                {
                  "diesel": "0",
                  "electric": "0",
                  "gasoline": "1",
                  "_deepnote_index_column": "5"
                },
                {
                  "diesel": "0",
                  "electric": "0",
                  "gasoline": "1",
                  "_deepnote_index_column": "6"
                },
                {
                  "diesel": "0",
                  "electric": "0",
                  "gasoline": "1",
                  "_deepnote_index_column": "7"
                },
                {
                  "diesel": "0",
                  "electric": "0",
                  "gasoline": "1",
                  "_deepnote_index_column": "8"
                },
                {
                  "diesel": "0",
                  "electric": "0",
                  "gasoline": "1",
                  "_deepnote_index_column": "9"
                }
              ]
            },
            "text/plain": "       diesel  electric  gasoline\n0           0         0         1\n1           0         0         1\n2           0         0         1\n3           0         0         1\n4           0         0         1\n...       ...       ...       ...\n38526       0         0         1\n38527       1         0         0\n38528       0         0         1\n38529       0         0         1\n38530       0         0         1\n\n[38531 rows x 3 columns]",
            "text/html": "<div>\n<style scoped>\n    .dataframe tbody tr th:only-of-type {\n        vertical-align: middle;\n    }\n\n    .dataframe tbody tr th {\n        vertical-align: top;\n    }\n\n    .dataframe thead th {\n        text-align: right;\n    }\n</style>\n<table border=\"1\" class=\"dataframe\">\n  <thead>\n    <tr style=\"text-align: right;\">\n      <th></th>\n      <th>diesel</th>\n      <th>electric</th>\n      <th>gasoline</th>\n    </tr>\n  </thead>\n  <tbody>\n    <tr>\n      <th>0</th>\n      <td>0</td>\n      <td>0</td>\n      <td>1</td>\n    </tr>\n    <tr>\n      <th>1</th>\n      <td>0</td>\n      <td>0</td>\n      <td>1</td>\n    </tr>\n    <tr>\n      <th>2</th>\n      <td>0</td>\n      <td>0</td>\n      <td>1</td>\n    </tr>\n    <tr>\n      <th>3</th>\n      <td>0</td>\n      <td>0</td>\n      <td>1</td>\n    </tr>\n    <tr>\n      <th>4</th>\n      <td>0</td>\n      <td>0</td>\n      <td>1</td>\n    </tr>\n    <tr>\n      <th>...</th>\n      <td>...</td>\n      <td>...</td>\n      <td>...</td>\n    </tr>\n    <tr>\n      <th>38526</th>\n      <td>0</td>\n      <td>0</td>\n      <td>1</td>\n    </tr>\n    <tr>\n      <th>38527</th>\n      <td>1</td>\n      <td>0</td>\n      <td>0</td>\n    </tr>\n    <tr>\n      <th>38528</th>\n      <td>0</td>\n      <td>0</td>\n      <td>1</td>\n    </tr>\n    <tr>\n      <th>38529</th>\n      <td>0</td>\n      <td>0</td>\n      <td>1</td>\n    </tr>\n    <tr>\n      <th>38530</th>\n      <td>0</td>\n      <td>0</td>\n      <td>1</td>\n    </tr>\n  </tbody>\n</table>\n<p>38531 rows × 3 columns</p>\n</div>"
          },
          "metadata": {}
        }
      ]
    },
    {
      "cell_type": "markdown",
      "metadata": {
        "tags": [],
        "cell_id": "a76ccf5a4cf74064a91d0ab4a62928a3",
        "deepnote_cell_type": "markdown",
        "id": "U9ykV3GXDXEH"
      },
      "source": [
        "One-hot con Scikit: https://scikit-learn.org/stable/modules/preprocessing.html#encoding-categorical-features"
      ]
    },
    {
      "cell_type": "code",
      "metadata": {
        "tags": [],
        "cell_id": "7165f45f3fc0454e8569c27666f6855f",
        "source_hash": "d7f5adf8",
        "execution_start": 1683301359054,
        "execution_millis": 20,
        "deepnote_to_be_reexecuted": false,
        "deepnote_cell_type": "code",
        "id": "yktjThDADXEJ"
      },
      "source": [
        "from sklearn import preprocessing as preprocessing\n",
        "\n",
        "encoder = preprocessing.OneHotEncoder(handle_unknown='ignore')"
      ],
      "execution_count": null,
      "outputs": []
    },
    {
      "cell_type": "code",
      "metadata": {
        "tags": [],
        "cell_id": "eb6bac79d3c74a428f56731ce3648b25",
        "source_hash": "5e89ea5b",
        "output_cleared": false,
        "execution_start": 1683301374368,
        "execution_millis": 12,
        "deepnote_to_be_reexecuted": false,
        "deepnote_cell_type": "code",
        "id": "7KspXQ1xDXEK",
        "outputId": "3e9b9a03-b4b5-4fc8-d495-86ed2173685e"
      },
      "source": [
        "encoder.fit(cars[['engine_type']].values)"
      ],
      "execution_count": null,
      "outputs": [
        {
          "output_type": "execute_result",
          "execution_count": 10,
          "data": {
            "text/plain": "OneHotEncoder(handle_unknown='ignore')"
          },
          "metadata": {}
        }
      ]
    },
    {
      "cell_type": "code",
      "metadata": {
        "tags": [],
        "cell_id": "9fcac951602542e48bbed1bd4cb86e31",
        "source_hash": "ea0aa29e",
        "output_cleared": false,
        "execution_start": 1620313043886,
        "execution_millis": 8,
        "deepnote_to_be_reexecuted": false,
        "deepnote_cell_type": "code",
        "id": "VRXT5kvUDXEP",
        "outputId": "7e4bf693-5216-4236-98d1-5979732b17dd"
      },
      "source": [
        "encoder.transform([['gasoline'],['diesel'],['aceite']]).toarray()"
      ],
      "execution_count": null,
      "outputs": [
        {
          "output_type": "execute_result",
          "execution_count": 8,
          "data": {
            "text/plain": "array([[0., 0., 1.],\n       [1., 0., 0.],\n       [0., 0., 0.]])"
          },
          "metadata": {}
        }
      ]
    },
    {
      "cell_type": "markdown",
      "metadata": {
        "tags": [],
        "cell_id": "a0fa3a4b4d904daf9713c5aedbc1c8e0",
        "deepnote_cell_type": "markdown",
        "id": "A9NI8jWEDXEQ"
      },
      "source": [
        "Variables numéricas discretas pueden ser codificadas como categoricas"
      ]
    },
    {
      "cell_type": "code",
      "metadata": {
        "tags": [],
        "cell_id": "8fef1505dfdf41928588f4ff96795eec",
        "source_hash": "18ecc690",
        "output_cleared": false,
        "execution_start": 1683301493364,
        "execution_millis": 16,
        "deepnote_to_be_reexecuted": false,
        "deepnote_cell_type": "code",
        "id": "oX6jE-EnDXEQ",
        "outputId": "eafad4bb-3056-4951-9cdc-343a0481c6c8"
      },
      "source": [
        "encoder.fit(cars[['year_produced']].values)"
      ],
      "execution_count": null,
      "outputs": [
        {
          "output_type": "execute_result",
          "execution_count": 11,
          "data": {
            "text/plain": "OneHotEncoder(handle_unknown='ignore')"
          },
          "metadata": {}
        }
      ]
    },
    {
      "cell_type": "code",
      "metadata": {
        "tags": [],
        "cell_id": "8866e3b7e4344564b1dfcef5726895ff",
        "source_hash": "db2dddce",
        "output_cleared": false,
        "execution_start": 1620313184680,
        "execution_millis": 11,
        "deepnote_to_be_reexecuted": false,
        "deepnote_cell_type": "code",
        "id": "ttYnJXkXDXER",
        "outputId": "359bad04-9b34-4f86-9987-ce2b9e547240"
      },
      "source": [
        "encoder.transform([[2016],[2009],[190]]).toarray()"
      ],
      "execution_count": null,
      "outputs": [
        {
          "output_type": "execute_result",
          "execution_count": 13,
          "data": {
            "text/plain": "array([[0., 0., 0., 0., 0., 0., 0., 0., 0., 0., 0., 0., 0., 0., 0., 0.,\n        0., 0., 0., 0., 0., 0., 0., 0., 0., 0., 0., 0., 0., 0., 0., 0.,\n        0., 0., 0., 0., 0., 0., 0., 0., 0., 0., 0., 0., 0., 0., 0., 0.,\n        0., 0., 0., 0., 0., 0., 0., 0., 0., 0., 0., 0., 1., 0., 0., 0.],\n       [0., 0., 0., 0., 0., 0., 0., 0., 0., 0., 0., 0., 0., 0., 0., 0.,\n        0., 0., 0., 0., 0., 0., 0., 0., 0., 0., 0., 0., 0., 0., 0., 0.,\n        0., 0., 0., 0., 0., 0., 0., 0., 0., 0., 0., 0., 0., 0., 0., 0.,\n        0., 0., 0., 0., 0., 1., 0., 0., 0., 0., 0., 0., 0., 0., 0., 0.],\n       [0., 0., 0., 0., 0., 0., 0., 0., 0., 0., 0., 0., 0., 0., 0., 0.,\n        0., 0., 0., 0., 0., 0., 0., 0., 0., 0., 0., 0., 0., 0., 0., 0.,\n        0., 0., 0., 0., 0., 0., 0., 0., 0., 0., 0., 0., 0., 0., 0., 0.,\n        0., 0., 0., 0., 0., 0., 0., 0., 0., 0., 0., 0., 0., 0., 0., 0.]])"
          },
          "metadata": {}
        }
      ]
    },
    {
      "cell_type": "markdown",
      "source": [
        "<a style='text-decoration:none;line-height:16px;display:flex;color:#5B5B62;padding:10px;justify-content:end;' href='https://deepnote.com?utm_source=created-in-deepnote-cell&projectId=ebf36962-a640-448e-88bb-60200c86a4dd' target=\"_blank\">\n",
        "<img alt='Created in deepnote.com' style='display:inline;max-height:16px;margin:0px;margin-right:7.5px;' src='data:image/svg+xml;base64,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' > </img>\n",
        "Created in <span style='font-weight:600;margin-left:4px;'>Deepnote</span></a>"
      ],
      "metadata": {
        "created_in_deepnote_cell": true,
        "deepnote_cell_type": "markdown",
        "id": "lXfnf9OYDXEU"
      }
    }
  ],
  "nbformat": 4,
  "nbformat_minor": 0,
  "metadata": {
    "deepnote_persisted_session": {
      "createdAt": "2023-05-05T16:02:38.816Z"
    },
    "deepnote_notebook_id": "5a2c1a76e17d4ae999cd9592bbd010a8",
    "deepnote_execution_queue": [],
    "colab": {
      "provenance": [],
      "include_colab_link": true
    }
  }
}