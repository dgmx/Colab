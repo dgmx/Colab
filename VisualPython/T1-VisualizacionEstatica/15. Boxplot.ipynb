{
 "cells":[
  {
   "cell_type":"code",
   "source":[
    "import matplotlib.pyplot as plt\n",
    "import numpy as np\n",
    "import pandas as pd"
   ],
   "execution_count":1,
   "outputs":[],
   "metadata":{
    "datalore":{
     "node_id":"R5ImxlSvNza1OMAi0e9Tfi",
     "type":"CODE",
     "hide_input_from_viewers":true,
     "hide_output_from_viewers":true
    }
   }
  },
  {
   "cell_type":"markdown",
   "source":[
    "Boxplot sencillo:"
   ],
   "attachments":{},
   "metadata":{
    "datalore":{
     "node_id":"fhaPKcYri8AFQKAmlt4uCM",
     "type":"MD",
     "hide_input_from_viewers":true,
     "hide_output_from_viewers":true
    }
   }
  },
  {
   "cell_type":"code",
   "source":[
    "random_numbers = np.random.normal(0, 1, 1000)"
   ],
   "execution_count":2,
   "outputs":[],
   "metadata":{
    "datalore":{
     "node_id":"oYD1Fn03p9iKOMERQdjXz5",
     "type":"CODE",
     "hide_input_from_viewers":true,
     "hide_output_from_viewers":true
    }
   }
  },
  {
   "cell_type":"code",
   "source":[
    "plt.boxplot(random_numbers)"
   ],
   "execution_count":3,
   "outputs":[
    {
     "data":{
      "text\/plain":[
       "{'whiskers': [<matplotlib.lines.Line2D at 0x76ecbaf82100>,\n",
       "  <matplotlib.lines.Line2D at 0x76ecbaf823a0>],\n",
       " 'caps': [<matplotlib.lines.Line2D at 0x76ecbaf82640>,\n",
       "  <matplotlib.lines.Line2D at 0x76ecbaf828e0>],\n",
       " 'boxes': [<matplotlib.lines.Line2D at 0x76ecbafd0cd0>],\n",
       " 'medians': [<matplotlib.lines.Line2D at 0x76ecbaf82b80>],\n",
       " 'fliers': [<matplotlib.lines.Line2D at 0x76ecbaf82e20>],\n",
       " 'means': []}"
      ]
     },
     "metadata":{},
     "output_type":"display_data"
    },
    {
     "data":{
      "image\/png":"[encoded data removed]"
     },
     "metadata":{
      "image\/png":{}
     },
     "output_type":"display_data"
    }
   ],
   "metadata":{
    "datalore":{
     "node_id":"3zyGmciPT2Xsybs6ofUEvK",
     "type":"CODE",
     "hide_input_from_viewers":true,
     "hide_output_from_viewers":true
    }
   }
  },
  {
   "cell_type":"markdown",
   "source":[
    "Boxplot combinado:"
   ],
   "attachments":{},
   "metadata":{
    "datalore":{
     "node_id":"T87Xio6NX3BBNLwuEoxyOP",
     "type":"MD",
     "hide_input_from_viewers":true,
     "hide_output_from_viewers":true
    }
   }
  },
  {
   "cell_type":"code",
   "source":[
    "\n",
    "data = {\n",
    "    \"x1\": np.random.normal(0, 1, 1000),\n",
    "    \"x2\": np.random.normal(3, 5, 1000),\n",
    "    \"x3\": np.random.normal(-1, 2, 1000)\n",
    "}\n",
    "\n",
    "df = pd.DataFrame(data)\n",
    "df"
   ],
   "execution_count":2,
   "outputs":[
    {
     "data":{
      "text\/html":[
       "<div>\n",
       "<style scoped>\n",
       "    .dataframe tbody tr th:only-of-type {\n",
       "        vertical-align: middle;\n",
       "    }\n",
       "\n",
       "    .dataframe tbody tr th {\n",
       "        vertical-align: top;\n",
       "    }\n",
       "\n",
       "    .dataframe thead th {\n",
       "        text-align: right;\n",
       "    }\n",
       "<\/style>\n",
       "<table border=\"1\" class=\"dataframe\">\n",
       "  <thead>\n",
       "    <tr style=\"text-align: right;\">\n",
       "      <th><\/th>\n",
       "      <th>x1<\/th>\n",
       "      <th>x2<\/th>\n",
       "      <th>x3<\/th>\n",
       "    <\/tr>\n",
       "  <\/thead>\n",
       "  <tbody>\n",
       "    <tr>\n",
       "      <th>0<\/th>\n",
       "      <td>1.664538<\/td>\n",
       "      <td>-1.139644<\/td>\n",
       "      <td>-2.403813<\/td>\n",
       "    <\/tr>\n",
       "    <tr>\n",
       "      <th>1<\/th>\n",
       "      <td>-1.015676<\/td>\n",
       "      <td>3.517708<\/td>\n",
       "      <td>0.036061<\/td>\n",
       "    <\/tr>\n",
       "    <tr>\n",
       "      <th>2<\/th>\n",
       "      <td>-0.200316<\/td>\n",
       "      <td>0.300852<\/td>\n",
       "      <td>-1.521238<\/td>\n",
       "    <\/tr>\n",
       "    <tr>\n",
       "      <th>3<\/th>\n",
       "      <td>-0.268020<\/td>\n",
       "      <td>1.716855<\/td>\n",
       "      <td>1.029700<\/td>\n",
       "    <\/tr>\n",
       "    <tr>\n",
       "      <th>4<\/th>\n",
       "      <td>1.305472<\/td>\n",
       "      <td>5.072123<\/td>\n",
       "      <td>-2.652015<\/td>\n",
       "    <\/tr>\n",
       "    <tr>\n",
       "      <th>...<\/th>\n",
       "      <td>...<\/td>\n",
       "      <td>...<\/td>\n",
       "      <td>...<\/td>\n",
       "    <\/tr>\n",
       "    <tr>\n",
       "      <th>995<\/th>\n",
       "      <td>-0.648780<\/td>\n",
       "      <td>-3.592650<\/td>\n",
       "      <td>-1.723558<\/td>\n",
       "    <\/tr>\n",
       "    <tr>\n",
       "      <th>996<\/th>\n",
       "      <td>0.171043<\/td>\n",
       "      <td>1.265944<\/td>\n",
       "      <td>-5.540980<\/td>\n",
       "    <\/tr>\n",
       "    <tr>\n",
       "      <th>997<\/th>\n",
       "      <td>1.359275<\/td>\n",
       "      <td>-0.690372<\/td>\n",
       "      <td>1.091413<\/td>\n",
       "    <\/tr>\n",
       "    <tr>\n",
       "      <th>998<\/th>\n",
       "      <td>-0.515189<\/td>\n",
       "      <td>9.910809<\/td>\n",
       "      <td>-0.233209<\/td>\n",
       "    <\/tr>\n",
       "    <tr>\n",
       "      <th>999<\/th>\n",
       "      <td>-0.687414<\/td>\n",
       "      <td>3.812678<\/td>\n",
       "      <td>-0.326567<\/td>\n",
       "    <\/tr>\n",
       "  <\/tbody>\n",
       "<\/table>\n",
       "<p>1000 rows × 3 columns<\/p>\n",
       "<\/div>"
      ]
     },
     "metadata":{},
     "output_type":"display_data"
    }
   ],
   "metadata":{
    "datalore":{
     "node_id":"sMreppG1WDkq7fuVNDitdR",
     "type":"CODE",
     "hide_input_from_viewers":true,
     "hide_output_from_viewers":true
    }
   }
  },
  {
   "cell_type":"code",
   "source":[
    "plt.boxplot(df)\n",
    "plt.xticks([1,2,3], ['x1', 'x2', 'x3'])"
   ],
   "execution_count":4,
   "outputs":[
    {
     "data":{
      "text\/plain":[
       "([<matplotlib.axis.XTick at 0x78aef12f6df0>,\n",
       "  <matplotlib.axis.XTick at 0x78aef12f6dc0>,\n",
       "  <matplotlib.axis.XTick at 0x78aef12bd940>],\n",
       " [Text(1, 0, 'x1'), Text(2, 0, 'x2'), Text(3, 0, 'x3')])"
      ]
     },
     "metadata":{},
     "output_type":"display_data"
    },
    {
     "data":{
      "image\/png":"[encoded data removed]"
     },
     "metadata":{
      "image\/png":{}
     },
     "output_type":"display_data"
    }
   ],
   "metadata":{
    "datalore":{
     "node_id":"VqPkDruu1GinRHnJL1Vilo",
     "type":"CODE",
     "hide_input_from_viewers":true,
     "hide_output_from_viewers":true
    }
   }
  },
  {
   "cell_type":"code",
   "source":[
    "plt.boxplot(df, labels=['x1', 'x2', 'x3']) # labels -> ticks_labels"
   ],
   "execution_count":11,
   "outputs":[
    {
     "data":{
      "text\/plain":[
       "{'whiskers': [<matplotlib.lines.Line2D at 0x76ecb933e2b0>,\n",
       "  <matplotlib.lines.Line2D at 0x76ecb933e550>,\n",
       "  <matplotlib.lines.Line2D at 0x76ecb9304490>,\n",
       "  <matplotlib.lines.Line2D at 0x76ecb9304730>,\n",
       "  <matplotlib.lines.Line2D at 0x76ecb9307730>,\n",
       "  <matplotlib.lines.Line2D at 0x76ecb93079d0>],\n",
       " 'caps': [<matplotlib.lines.Line2D at 0x76ecb933e7f0>,\n",
       "  <matplotlib.lines.Line2D at 0x76ecb933ea90>,\n",
       "  <matplotlib.lines.Line2D at 0x76ecb93049d0>,\n",
       "  <matplotlib.lines.Line2D at 0x76ecb9304c70>,\n",
       "  <matplotlib.lines.Line2D at 0x76ecb9307c70>,\n",
       "  <matplotlib.lines.Line2D at 0x76ecb9307f10>],\n",
       " 'boxes': [<matplotlib.lines.Line2D at 0x76ecb930ffd0>,\n",
       "  <matplotlib.lines.Line2D at 0x76ecb93041f0>,\n",
       "  <matplotlib.lines.Line2D at 0x76ecb9307490>],\n",
       " 'medians': [<matplotlib.lines.Line2D at 0x76ecb933ed30>,\n",
       "  <matplotlib.lines.Line2D at 0x76ecb9304f10>,\n",
       "  <matplotlib.lines.Line2D at 0x76ecb92c61f0>],\n",
       " 'fliers': [<matplotlib.lines.Line2D at 0x76ecb933efd0>,\n",
       "  <matplotlib.lines.Line2D at 0x76ecb93071f0>,\n",
       "  <matplotlib.lines.Line2D at 0x76ecb92c6490>],\n",
       " 'means': []}"
      ]
     },
     "metadata":{},
     "output_type":"display_data"
    },
    {
     "data":{
      "image\/png":[]
     },
     "metadata":{
      "image\/png":{}
     },
     "output_type":"display_data"
    }
   ],
   "metadata":{
    "datalore":{
     "node_id":"VTwNszz7LUFDmBtT4md27u",
     "type":"CODE",
     "hide_input_from_viewers":true,
     "hide_output_from_viewers":true
    }
   }
  },
  {
   "cell_type":"markdown",
   "source":[
    "Configuración del boxplot:"
   ],
   "attachments":{},
   "metadata":{
    "datalore":{
     "node_id":"Ux88E27VEDxla5Z6CU6YgR",
     "type":"MD",
     "hide_input_from_viewers":true,
     "hide_output_from_viewers":true
    }
   }
  },
  {
   "cell_type":"code",
   "source":[
    "plt.boxplot(df, labels=['x1', 'x2', 'x3'], notch=True)"
   ],
   "execution_count":12,
   "outputs":[
    {
     "data":{
      "text\/plain":[
       "{'whiskers': [<matplotlib.lines.Line2D at 0x76ecb9241d30>,\n",
       "  <matplotlib.lines.Line2D at 0x76ecb9241fd0>,\n",
       "  <matplotlib.lines.Line2D at 0x76ecb9291040>,\n",
       "  <matplotlib.lines.Line2D at 0x76ecb92912e0>,\n",
       "  <matplotlib.lines.Line2D at 0x76ecb92b92e0>,\n",
       "  <matplotlib.lines.Line2D at 0x76ecb92b9580>],\n",
       " 'caps': [<matplotlib.lines.Line2D at 0x76ecb92742b0>,\n",
       "  <matplotlib.lines.Line2D at 0x76ecb9274550>,\n",
       "  <matplotlib.lines.Line2D at 0x76ecb9291580>,\n",
       "  <matplotlib.lines.Line2D at 0x76ecb9291820>,\n",
       "  <matplotlib.lines.Line2D at 0x76ecb92b9820>,\n",
       "  <matplotlib.lines.Line2D at 0x76ecb92b9ac0>],\n",
       " 'boxes': [<matplotlib.lines.Line2D at 0x76ecb9241a90>,\n",
       "  <matplotlib.lines.Line2D at 0x76ecb9274d60>,\n",
       "  <matplotlib.lines.Line2D at 0x76ecb92b9040>],\n",
       " 'medians': [<matplotlib.lines.Line2D at 0x76ecb9274820>,\n",
       "  <matplotlib.lines.Line2D at 0x76ecb9291ac0>,\n",
       "  <matplotlib.lines.Line2D at 0x76ecb92b9d60>],\n",
       " 'fliers': [<matplotlib.lines.Line2D at 0x76ecb9274ac0>,\n",
       "  <matplotlib.lines.Line2D at 0x76ecb9291d60>,\n",
       "  <matplotlib.lines.Line2D at 0x76ecb9281040>],\n",
       " 'means': []}"
      ]
     },
     "metadata":{},
     "output_type":"display_data"
    },
    {
     "data":{
      "image\/png":"[encoded data removed]"
     },
     "metadata":{
      "image\/png":{}
     },
     "output_type":"display_data"
    }
   ],
   "metadata":{
    "datalore":{
     "node_id":"9VWLSFZBNtOzz28asZfZI0",
     "type":"CODE",
     "hide_input_from_viewers":true,
     "hide_output_from_viewers":true
    }
   }
  },
  {
   "cell_type":"code",
   "source":[
    "plt.boxplot(df, labels=['x1', 'x2', 'x3'], sym='r+')"
   ],
   "execution_count":13,
   "outputs":[
    {
     "data":{
      "text\/plain":[
       "{'whiskers': [<matplotlib.lines.Line2D at 0x76ecb91fb880>,\n",
       "  <matplotlib.lines.Line2D at 0x76ecb91fbb20>,\n",
       "  <matplotlib.lines.Line2D at 0x76ecb91d2b20>,\n",
       "  <matplotlib.lines.Line2D at 0x76ecb91d2df0>,\n",
       "  <matplotlib.lines.Line2D at 0x76ecb91cbdf0>,\n",
       "  <matplotlib.lines.Line2D at 0x76ecb91800d0>],\n",
       " 'caps': [<matplotlib.lines.Line2D at 0x76ecb91fbdc0>,\n",
       "  <matplotlib.lines.Line2D at 0x76ecb91d20a0>,\n",
       "  <matplotlib.lines.Line2D at 0x76ecb91cb0d0>,\n",
       "  <matplotlib.lines.Line2D at 0x76ecb91cb370>,\n",
       "  <matplotlib.lines.Line2D at 0x76ecb9180370>,\n",
       "  <matplotlib.lines.Line2D at 0x76ecb9180610>],\n",
       " 'boxes': [<matplotlib.lines.Line2D at 0x76ecb91fb5e0>,\n",
       "  <matplotlib.lines.Line2D at 0x76ecb91d2880>,\n",
       "  <matplotlib.lines.Line2D at 0x76ecb91cbb50>],\n",
       " 'medians': [<matplotlib.lines.Line2D at 0x76ecb91d2340>,\n",
       "  <matplotlib.lines.Line2D at 0x76ecb91cb610>,\n",
       "  <matplotlib.lines.Line2D at 0x76ecb91808b0>],\n",
       " 'fliers': [<matplotlib.lines.Line2D at 0x76ecb91d25e0>,\n",
       "  <matplotlib.lines.Line2D at 0x76ecb91cb8b0>,\n",
       "  <matplotlib.lines.Line2D at 0x76ecb9180b50>],\n",
       " 'means': []}"
      ]
     },
     "metadata":{},
     "output_type":"display_data"
    },
    {
     "data":{
      "image\/png":"[encoded data removed]"
     },
     "metadata":{
      "image\/png":{}
     },
     "output_type":"display_data"
    }
   ],
   "metadata":{
    "datalore":{
     "node_id":"iRfoowIsSxXXZkTdo50qKN",
     "type":"CODE",
     "hide_input_from_viewers":true,
     "hide_output_from_viewers":true
    }
   }
  },
  {
   "cell_type":"code",
   "source":[
    "#plt.boxplot(df, labels=['x1', 'x2', 'x3'], whis=1) # Q1 - whis*(Q3-Q1) -> default whis = 1.5\n",
    "plt.boxplot(df, labels=['x1', 'x2', 'x3'], whis=(1, 99))"
   ],
   "execution_count":8,
   "outputs":[
    {
     "data":{
      "text\/plain":[
       "{'whiskers': [<matplotlib.lines.Line2D at 0x78aef07dcc70>,\n",
       "  <matplotlib.lines.Line2D at 0x78aef07dcf10>,\n",
       "  <matplotlib.lines.Line2D at 0x78aef079af10>,\n",
       "  <matplotlib.lines.Line2D at 0x78aef07881f0>,\n",
       "  <matplotlib.lines.Line2D at 0x78aef0782220>,\n",
       "  <matplotlib.lines.Line2D at 0x78aef07824c0>],\n",
       " 'caps': [<matplotlib.lines.Line2D at 0x78aef079a1f0>,\n",
       "  <matplotlib.lines.Line2D at 0x78aef079a490>,\n",
       "  <matplotlib.lines.Line2D at 0x78aef0788490>,\n",
       "  <matplotlib.lines.Line2D at 0x78aef0788730>,\n",
       "  <matplotlib.lines.Line2D at 0x78aef0782760>,\n",
       "  <matplotlib.lines.Line2D at 0x78aef0782a00>],\n",
       " 'boxes': [<matplotlib.lines.Line2D at 0x78aef07dc9d0>,\n",
       "  <matplotlib.lines.Line2D at 0x78aef079ac70>,\n",
       "  <matplotlib.lines.Line2D at 0x78aef0788f40>],\n",
       " 'medians': [<matplotlib.lines.Line2D at 0x78aef079a730>,\n",
       "  <matplotlib.lines.Line2D at 0x78aef0788a00>,\n",
       "  <matplotlib.lines.Line2D at 0x78aef0782ca0>],\n",
       " 'fliers': [<matplotlib.lines.Line2D at 0x78aef079a9d0>,\n",
       "  <matplotlib.lines.Line2D at 0x78aef0788ca0>,\n",
       "  <matplotlib.lines.Line2D at 0x78aef0782f40>],\n",
       " 'means': []}"
      ]
     },
     "metadata":{},
     "output_type":"display_data"
    },
    {
     "data":{
      "image\/png":"[encoded data removed]"
     },
     "metadata":{
      "image\/png":{}
     },
     "output_type":"display_data"
    }
   ],
   "metadata":{
    "datalore":{
     "node_id":"xT8b64t8kAoXObSkQ8wiV6",
     "type":"CODE",
     "hide_input_from_viewers":true,
     "hide_output_from_viewers":true
    }
   }
  },
  {
   "cell_type":"code",
   "source":[
    "plt.boxplot(df, labels=['x1', 'x2', 'x3'], widths=0.8)"
   ],
   "execution_count":19,
   "outputs":[
    {
     "data":{
      "text\/plain":[
       "{'whiskers': [<matplotlib.lines.Line2D at 0x76ecb8e90e50>,\n",
       "  <matplotlib.lines.Line2D at 0x76ecb8ea3130>,\n",
       "  <matplotlib.lines.Line2D at 0x76ecb8eda130>,\n",
       "  <matplotlib.lines.Line2D at 0x76ecb8eda3d0>,\n",
       "  <matplotlib.lines.Line2D at 0x76ecb8eca3d0>,\n",
       "  <matplotlib.lines.Line2D at 0x76ecb8eca670>],\n",
       " 'caps': [<matplotlib.lines.Line2D at 0x76ecb8ea33d0>,\n",
       "  <matplotlib.lines.Line2D at 0x76ecb8ea3670>,\n",
       "  <matplotlib.lines.Line2D at 0x76ecb8eda670>,\n",
       "  <matplotlib.lines.Line2D at 0x76ecb8eda910>,\n",
       "  <matplotlib.lines.Line2D at 0x76ecb8eca910>,\n",
       "  <matplotlib.lines.Line2D at 0x76ecb8ecabb0>],\n",
       " 'boxes': [<matplotlib.lines.Line2D at 0x76ecb8e90bb0>,\n",
       "  <matplotlib.lines.Line2D at 0x76ecb8ea3e50>,\n",
       "  <matplotlib.lines.Line2D at 0x76ecb8eca130>],\n",
       " 'medians': [<matplotlib.lines.Line2D at 0x76ecb8ea3910>,\n",
       "  <matplotlib.lines.Line2D at 0x76ecb8edabb0>,\n",
       "  <matplotlib.lines.Line2D at 0x76ecb8ecae50>],\n",
       " 'fliers': [<matplotlib.lines.Line2D at 0x76ecb8ea3bb0>,\n",
       "  <matplotlib.lines.Line2D at 0x76ecb8edae50>,\n",
       "  <matplotlib.lines.Line2D at 0x76ecb8efc130>],\n",
       " 'means': []}"
      ]
     },
     "metadata":{},
     "output_type":"display_data"
    },
    {
     "data":{
      "image\/png":"[encoded data removed]"
     },
     "metadata":{
      "image\/png":{}
     },
     "output_type":"display_data"
    }
   ],
   "metadata":{
    "datalore":{
     "node_id":"IouhgdekAC9mQ4NQYBzpy5",
     "type":"CODE",
     "hide_input_from_viewers":true,
     "hide_output_from_viewers":true
    }
   }
  }
 ],
 "metadata":{
  "kernelspec":{
   "display_name":"Python",
   "language":"python",
   "name":"python"
  },
  "datalore":{
   "computation_mode":"JUPYTER",
   "package_manager":"pip",
   "base_environment":"default",
   "packages":[],
   "report_row_ids":[],
   "version":3
  }
 },
 "nbformat":4,
 "nbformat_minor":4
}