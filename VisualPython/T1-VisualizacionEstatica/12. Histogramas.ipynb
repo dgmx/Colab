{
 "cells":[
  {
   "cell_type":"code",
   "source":[
    "import matplotlib.pyplot as plt\n",
    "import numpy as np"
   ],
   "execution_count":1,
   "outputs":[],
   "metadata":{
    "datalore":{
     "node_id":"uOq9INCvqxihaIV14tEj82",
     "type":"CODE",
     "hide_input_from_viewers":true,
     "hide_output_from_viewers":true
    }
   }
  },
  {
   "cell_type":"code",
   "source":[
    "random_numbers = np.random.normal(0, 10, 1000)"
   ],
   "execution_count":2,
   "outputs":[],
   "metadata":{
    "datalore":{
     "node_id":"kwQjWHFRTNpP19vad4G69I",
     "type":"CODE",
     "hide_input_from_viewers":true,
     "hide_output_from_viewers":true
    }
   }
  },
  {
   "cell_type":"markdown",
   "source":[
    "Histograma básico:"
   ],
   "attachments":{},
   "metadata":{
    "datalore":{
     "node_id":"pustwkR4P6ACi1MejgEGat",
     "type":"MD",
     "hide_input_from_viewers":true,
     "hide_output_from_viewers":true
    }
   }
  },
  {
   "cell_type":"code",
   "source":[
    "plt.hist(random_numbers)"
   ],
   "execution_count":3,
   "outputs":[
    {
     "data":{
      "text\/plain":[
       "(array([  5.,  25.,  77., 134., 218., 229., 160.,  83.,  53.,  16.]),\n",
       " array([-29.83014043, -24.16431195, -18.49848347, -12.832655  ,\n",
       "         -7.16682652,  -1.50099805,   4.16483043,   9.83065891,\n",
       "         15.49648738,  21.16231586,  26.82814434]),\n",
       " <BarContainer object of 10 artists>)"
      ]
     },
     "metadata":{},
     "output_type":"display_data"
    },
    {
     "data":{
      "image\/png":"[encoded data removed]"
     },
     "metadata":{
      "image\/png":{}
     },
     "output_type":"display_data"
    }
   ],
   "metadata":{
    "datalore":{
     "node_id":"4WUtycum0Mg12vG6P4AA7H",
     "type":"CODE",
     "hide_input_from_viewers":true,
     "hide_output_from_viewers":true
    }
   }
  },
  {
   "cell_type":"markdown",
   "source":[
    "Configuraciones del histograma:"
   ],
   "attachments":{},
   "metadata":{
    "datalore":{
     "node_id":"ClkdKdWtUkjPsoz0Ja4nbd",
     "type":"MD",
     "hide_input_from_viewers":true,
     "hide_output_from_viewers":true
    }
   }
  },
  {
   "cell_type":"code",
   "source":[
    "plt.hist(random_numbers, bins=50)"
   ],
   "execution_count":5,
   "outputs":[
    {
     "data":{
      "text\/plain":[
       "(array([ 1.,  1.,  2.,  1.,  0.,  5.,  3.,  4.,  6.,  7., 15.,  7., 19.,\n",
       "        16., 20., 29., 28., 22., 27., 28., 43., 32., 48., 53., 42., 43.,\n",
       "        44., 39., 50., 53., 36., 36., 25., 31., 32., 16., 14., 20., 18.,\n",
       "        15., 17., 13.,  8., 11.,  4.,  7.,  3.,  4.,  0.,  2.]),\n",
       " array([-29.83014043, -28.69697473, -27.56380904, -26.43064334,\n",
       "        -25.29747765, -24.16431195, -23.03114626, -21.89798056,\n",
       "        -20.76481487, -19.63164917, -18.49848347, -17.36531778,\n",
       "        -16.23215208, -15.09898639, -13.96582069, -12.832655  ,\n",
       "        -11.6994893 , -10.56632361,  -9.43315791,  -8.29999222,\n",
       "         -7.16682652,  -6.03366083,  -4.90049513,  -3.76732944,\n",
       "         -2.63416374,  -1.50099805,  -0.36783235,   0.76533335,\n",
       "          1.89849904,   3.03166474,   4.16483043,   5.29799613,\n",
       "          6.43116182,   7.56432752,   8.69749321,   9.83065891,\n",
       "         10.9638246 ,  12.0969903 ,  13.23015599,  14.36332169,\n",
       "         15.49648738,  16.62965308,  17.76281877,  18.89598447,\n",
       "         20.02915017,  21.16231586,  22.29548156,  23.42864725,\n",
       "         24.56181295,  25.69497864,  26.82814434]),\n",
       " <BarContainer object of 50 artists>)"
      ]
     },
     "metadata":{},
     "output_type":"display_data"
    },
    {
     "data":{
      "image\/png":"[encoded data removed]"
     },
     "metadata":{
      "image\/png":{}
     },
     "output_type":"display_data"
    }
   ],
   "metadata":{
    "datalore":{
     "node_id":"3TyPy8ZAbOUlTefcVn9uof",
     "type":"CODE",
     "hide_input_from_viewers":true,
     "hide_output_from_viewers":true
    }
   }
  },
  {
   "cell_type":"code",
   "source":[
    "plt.hist(random_numbers, bins=50, range=(-20,20))"
   ],
   "execution_count":6,
   "outputs":[
    {
     "data":{
      "text\/plain":[
       "(array([ 6.,  7., 12.,  5.,  5., 14., 13., 10., 17., 16., 29., 12., 17.,\n",
       "        17., 19., 22., 32., 27., 24., 25., 39., 36., 32., 28., 32., 33.,\n",
       "        24., 39., 31., 38., 24., 26., 29., 18., 15., 27., 24.,  8., 14.,\n",
       "        13.,  8., 19., 11., 12., 11., 12.,  8.,  7.,  4., 10.]),\n",
       " array([-20. , -19.2, -18.4, -17.6, -16.8, -16. , -15.2, -14.4, -13.6,\n",
       "        -12.8, -12. , -11.2, -10.4,  -9.6,  -8.8,  -8. ,  -7.2,  -6.4,\n",
       "         -5.6,  -4.8,  -4. ,  -3.2,  -2.4,  -1.6,  -0.8,   0. ,   0.8,\n",
       "          1.6,   2.4,   3.2,   4. ,   4.8,   5.6,   6.4,   7.2,   8. ,\n",
       "          8.8,   9.6,  10.4,  11.2,  12. ,  12.8,  13.6,  14.4,  15.2,\n",
       "         16. ,  16.8,  17.6,  18.4,  19.2,  20. ]),\n",
       " <BarContainer object of 50 artists>)"
      ]
     },
     "metadata":{},
     "output_type":"display_data"
    },
    {
     "data":{
      "image\/png":"[encoded data removed]"
     },
     "metadata":{
      "image\/png":{}
     },
     "output_type":"display_data"
    }
   ],
   "metadata":{
    "datalore":{
     "node_id":"c6QB8N736Wr5b7HfwVbVTu",
     "type":"CODE",
     "hide_input_from_viewers":true,
     "hide_output_from_viewers":true
    }
   }
  },
  {
   "cell_type":"code",
   "source":[
    "plt.hist(random_numbers, bins=20, range=(-20,20), density=True)"
   ],
   "execution_count":8,
   "outputs":[
    {
     "data":{
      "text\/plain":[
       "(array([0.00936524, 0.00884495, 0.01664932, 0.01977107, 0.02705515,\n",
       "        0.02185224, 0.03433923, 0.03329865, 0.04890739, 0.03798127,\n",
       "        0.04162331, 0.04422477, 0.03381894, 0.02445369, 0.02913632,\n",
       "        0.01560874, 0.01664932, 0.01508845, 0.01300728, 0.00832466]),\n",
       " array([-20., -18., -16., -14., -12., -10.,  -8.,  -6.,  -4.,  -2.,   0.,\n",
       "          2.,   4.,   6.,   8.,  10.,  12.,  14.,  16.,  18.,  20.]),\n",
       " <BarContainer object of 20 artists>)"
      ]
     },
     "metadata":{},
     "output_type":"display_data"
    },
    {
     "data":{
      "image\/png":[]
     },
     "metadata":{
      "image\/png":{}
     },
     "output_type":"display_data"
    }
   ],
   "metadata":{
    "datalore":{
     "node_id":"PFenkiqWKwankH4w1IcmDd",
     "type":"CODE",
     "hide_input_from_viewers":true,
     "hide_output_from_viewers":true
    }
   }
  },
  {
   "cell_type":"code",
   "source":[
    "plt.hist(random_numbers, bins=20, range=(-20,20), density=True, cumulative=True)"
   ],
   "execution_count":10,
   "outputs":[
    {
     "data":{
      "text\/plain":[
       "(array([0.01873049, 0.0364204 , 0.06971904, 0.10926119, 0.16337149,\n",
       "        0.20707596, 0.27575442, 0.34235172, 0.44016649, 0.51612903,\n",
       "        0.59937565, 0.68782518, 0.75546306, 0.80437045, 0.86264308,\n",
       "        0.89386056, 0.92715921, 0.95733611, 0.98335068, 1.        ]),\n",
       " array([-20., -18., -16., -14., -12., -10.,  -8.,  -6.,  -4.,  -2.,   0.,\n",
       "          2.,   4.,   6.,   8.,  10.,  12.,  14.,  16.,  18.,  20.]),\n",
       " <BarContainer object of 20 artists>)"
      ]
     },
     "metadata":{},
     "output_type":"display_data"
    },
    {
     "data":{
      "image\/png":"[encoded data removed]"
     },
     "metadata":{
      "image\/png":{}
     },
     "output_type":"display_data"
    }
   ],
   "metadata":{
    "datalore":{
     "node_id":"Q0nZooLIOvcdIj36HqQNtX",
     "type":"CODE",
     "hide_input_from_viewers":true,
     "hide_output_from_viewers":true
    }
   }
  },
  {
   "cell_type":"code",
   "source":[
    "plt.hist(random_numbers, bins=20, range=(-20,20), density=True, orientation='horizontal')"
   ],
   "execution_count":15,
   "outputs":[
    {
     "data":{
      "text\/plain":[
       "(array([0.00936524, 0.00884495, 0.01664932, 0.01977107, 0.02705515,\n",
       "        0.02185224, 0.03433923, 0.03329865, 0.04890739, 0.03798127,\n",
       "        0.04162331, 0.04422477, 0.03381894, 0.02445369, 0.02913632,\n",
       "        0.01560874, 0.01664932, 0.01508845, 0.01300728, 0.00832466]),\n",
       " array([-20., -18., -16., -14., -12., -10.,  -8.,  -6.,  -4.,  -2.,   0.,\n",
       "          2.,   4.,   6.,   8.,  10.,  12.,  14.,  16.,  18.,  20.]),\n",
       " <BarContainer object of 20 artists>)"
      ]
     },
     "metadata":{},
     "output_type":"display_data"
    },
    {
     "data":{
      "image\/png":"[encoded data removed]"
     },
     "metadata":{
      "image\/png":{}
     },
     "output_type":"display_data"
    }
   ],
   "metadata":{
    "datalore":{
     "node_id":"iy8IysAOcF042f5btaherH",
     "type":"CODE",
     "hide_input_from_viewers":true,
     "hide_output_from_viewers":true
    }
   }
  },
  {
   "cell_type":"code",
   "source":[
    "plt.hist(random_numbers, bins=20, range=(-20,20), density=True, color='Green', edgecolor=\"black\")"
   ],
   "execution_count":17,
   "outputs":[
    {
     "data":{
      "text\/plain":[
       "(array([0.00936524, 0.00884495, 0.01664932, 0.01977107, 0.02705515,\n",
       "        0.02185224, 0.03433923, 0.03329865, 0.04890739, 0.03798127,\n",
       "        0.04162331, 0.04422477, 0.03381894, 0.02445369, 0.02913632,\n",
       "        0.01560874, 0.01664932, 0.01508845, 0.01300728, 0.00832466]),\n",
       " array([-20., -18., -16., -14., -12., -10.,  -8.,  -6.,  -4.,  -2.,   0.,\n",
       "          2.,   4.,   6.,   8.,  10.,  12.,  14.,  16.,  18.,  20.]),\n",
       " <BarContainer object of 20 artists>)"
      ]
     },
     "metadata":{},
     "output_type":"display_data"
    },
    {
     "data":{
      "image\/png":"[encoded data removed]"
     },
     "metadata":{
      "image\/png":{}
     },
     "output_type":"display_data"
    }
   ],
   "metadata":{
    "datalore":{
     "node_id":"bfUe7wOMF4zBDTHN2jSRDF",
     "type":"CODE",
     "hide_input_from_viewers":true,
     "hide_output_from_viewers":true
    }
   }
  }
 ],
 "metadata":{
  "kernelspec":{
   "display_name":"Python",
   "language":"python",
   "name":"python"
  },
  "datalore":{
   "computation_mode":"JUPYTER",
   "package_manager":"pip",
   "base_environment":"default",
   "packages":[],
   "report_row_ids":[],
   "version":3
  }
 },
 "nbformat":4,
 "nbformat_minor":4
}