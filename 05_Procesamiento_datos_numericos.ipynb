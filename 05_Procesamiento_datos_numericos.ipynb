{
  "cells": [
    {
      "cell_type": "markdown",
      "metadata": {
        "id": "view-in-github",
        "colab_type": "text"
      },
      "source": [
        "<a href=\"https://colab.research.google.com/github/Bart0lo/curso_estadistica_descriptiva/blob/main/05_Procesamiento_datos_numericos.ipynb\" target=\"_parent\"><img src=\"https://colab.research.google.com/assets/colab-badge.svg\" alt=\"Open In Colab\"/></a>"
      ]
    },
    {
      "cell_type": "markdown",
      "metadata": {
        "tags": [],
        "cell_id": "c76708f58d9642b7a400768680862e0d",
        "deepnote_cell_type": "markdown",
        "id": "QG51MIWnCzm2"
      },
      "source": [
        "# Escalamiento de datos numéricos"
      ]
    },
    {
      "cell_type": "markdown",
      "metadata": {
        "tags": [],
        "cell_id": "2831b1a8311a460aa3a696ed69291bcd",
        "deepnote_cell_type": "markdown",
        "id": "xf7l1eVhCznE"
      },
      "source": [
        "### Transformaciones lineales"
      ]
    },
    {
      "cell_type": "code",
      "metadata": {
        "tags": [],
        "cell_id": "c0a11debd85b4a4dbf95e1532ba9e3d2",
        "source_hash": "f9ac71d",
        "execution_start": 1683076722613,
        "execution_millis": 1806,
        "deepnote_to_be_reexecuted": false,
        "deepnote_cell_type": "code",
        "id": "-TG2bgLQCznG"
      },
      "source": [
        "import timeit\n",
        "import numpy as np\n",
        "import pandas as pd\n",
        "import matplotlib.pyplot as plt\n",
        "from sklearn import datasets, linear_model\n",
        "\n",
        "X, y = datasets.load_diabetes(return_X_y=True)\n",
        "raw = X[:, None, 2]"
      ],
      "execution_count": null,
      "outputs": []
    },
    {
      "cell_type": "markdown",
      "metadata": {
        "tags": [],
        "cell_id": "5b87451e55644a0fa2f0e071ba12dcab",
        "deepnote_cell_type": "markdown",
        "id": "6xqn0sbwCznK"
      },
      "source": [
        "Detalles del dataset: https://scikit-learn.org/stable/modules/generated/sklearn.datasets.load_diabetes.html"
      ]
    },
    {
      "cell_type": "code",
      "metadata": {
        "tags": [],
        "cell_id": "94dc034c6b044fc3be4149f4fec3b43c",
        "source_hash": "e3a30142",
        "output_cleared": false,
        "execution_start": 1683076751725,
        "execution_millis": 88,
        "deepnote_to_be_reexecuted": false,
        "deepnote_cell_type": "code",
        "id": "IAjdoimTCznL",
        "outputId": "632d75c6-3e77-403e-ac07-ecd2a597edf2"
      },
      "source": [
        "# escalamiento max-min\n",
        "\n",
        "max_raw = max(raw)\n",
        "min_raw = min(raw)\n",
        "\n",
        "scaled= (2 * raw - min_raw - max_raw) / max_raw - min_raw\n",
        "\n",
        "fig, axs = plt.subplots(2,1,sharex=True)\n",
        "axs[0].hist(raw)\n",
        "axs[1].hist(scaled)\n",
        "\n",
        "\n",
        "\n",
        "\n"
      ],
      "execution_count": null,
      "outputs": [
        {
          "output_type": "execute_result",
          "execution_count": 5,
          "data": {
            "text/plain": "(array([32., 66., 98., 90., 64., 50., 23., 12.,  5.,  2.]),\n array([-1.43902714, -1.13316665, -0.82730616, -0.52144568, -0.21558519,\n         0.0902753 ,  0.39613578,  0.70199627,  1.00785676,  1.31371724,\n         1.61957773]),\n <BarContainer object of 10 artists>)"
          },
          "metadata": {}
        },
        {
          "data": {
            "text/plain": "<Figure size 640x480 with 2 Axes>",
            "image/png": "[encoded data removed]"
          },
          "metadata": {
            "image/png": {
              "width": 552,
              "height": 414
            }
          },
          "output_type": "display_data"
        }
      ]
    },
    {
      "cell_type": "code",
      "metadata": {
        "cell_id": "2cd76252b53e44e89d1b42122744e2e0",
        "source_hash": "b38ee99",
        "execution_start": 1683077113556,
        "execution_millis": 33,
        "deepnote_to_be_reexecuted": false,
        "deepnote_cell_type": "code",
        "id": "lyoT6BgACznN",
        "outputId": "f5d07bf1-a860-446c-bc30-39dda62a4335"
      },
      "source": [
        "# normalización Z-score\n",
        "\n",
        "miu = np.mean(raw)\n",
        "std = np.std(raw)\n",
        "\n",
        "z_scaled = (raw - miu)/std\n",
        "\n",
        "fig, axs = plt.subplots(2,1,sharex=True)\n",
        "axs[0].hist(raw)\n",
        "axs[1].hist(z_scaled)"
      ],
      "execution_count": null,
      "outputs": [
        {
          "output_type": "execute_result",
          "execution_count": 10,
          "data": {
            "text/plain": "(array([32., 66., 98., 90., 64., 50., 23., 12.,  5.,  2.]),\n array([-1.89792941, -1.34956464, -0.80119987, -0.2528351 ,  0.29552967,\n         0.84389444,  1.39225921,  1.94062398,  2.48898875,  3.03735352,\n         3.58571828]),\n <BarContainer object of 10 artists>)"
          },
          "metadata": {}
        },
        {
          "data": {
            "text/plain": "<Figure size 640x480 with 2 Axes>",
            "image/png": "[encoded data removed]"
          },
          "metadata": {
            "image/png": {
              "width": 552,
              "height": 414
            }
          },
          "output_type": "display_data"
        }
      ]
    },
    {
      "cell_type": "code",
      "metadata": {
        "tags": [],
        "cell_id": "6a7a9f220b154ea483570af102f01b7c",
        "source_hash": "8d13a080",
        "execution_start": 1683076747289,
        "execution_millis": 3,
        "deepnote_to_be_reexecuted": false,
        "deepnote_cell_type": "code",
        "id": "OX31XLBHCznQ"
      },
      "source": [
        "# modelos para entrenamiento\n",
        "def train_raw():\n",
        "    linear_model.LinearRegression().fit(raw, y)\n",
        "\n",
        "def train_scaled():\n",
        "    linear_model.LinearRegression().fit(scaled, y)\n",
        "\n",
        "def train_z_scaled():\n",
        "    linear_model.LinearRegression().fit(z_scaled, y)"
      ],
      "execution_count": null,
      "outputs": []
    },
    {
      "cell_type": "code",
      "metadata": {
        "tags": [],
        "cell_id": "cbb1e6e2520c419d8d983828d88445da",
        "source_hash": "6dc73673",
        "output_cleared": false,
        "execution_start": 1683077119773,
        "execution_millis": 68,
        "deepnote_to_be_reexecuted": false,
        "deepnote_cell_type": "code",
        "id": "qKddnslECznS",
        "outputId": "9fb3c758-5094-496b-c3d2-907ddfc7b768"
      },
      "source": [
        "raw_time = timeit.timeit(train_raw, number = 100)\n",
        "scaled_time = timeit.timeit(train_raw, number = 100)\n",
        "z_scaled_time = timeit.timeit(train_raw, number = 100)\n",
        "print('trainning time for raw data : {} '.format(raw_time))\n",
        "print('trainning time for scaled data : {}'.format(scaled_time))\n",
        "print('trainning time for z_scaled data : {}'.format(z_scaled_time))"
      ],
      "execution_count": null,
      "outputs": [
        {
          "name": "stdout",
          "text": "trainning time for raw data : 0.025493263001408195 \ntrainning time for scaled data : 0.020777198998985114\ntrainning time for z_scaled data : 0.023342734999459935\n",
          "output_type": "stream"
        }
      ]
    },
    {
      "cell_type": "markdown",
      "metadata": {
        "tags": [],
        "cell_id": "b01c7a37fde74b0693250cf0d95b4669",
        "deepnote_cell_type": "markdown",
        "id": "J832GcuyCznU"
      },
      "source": [
        "* max-min scaling: mejor para datos uniformemente distribuidos\n",
        "* z-score scaling: mejor para datos distribuidos \"normalmente\" (forma de campana de gauss)"
      ]
    },
    {
      "cell_type": "markdown",
      "metadata": {
        "tags": [],
        "cell_id": "92209d6003314db09f5aa18e8d1e9f72",
        "deepnote_cell_type": "markdown",
        "id": "Nf0Hq2lFCznV"
      },
      "source": [
        "Utilidades de Scikit Learn : https://scikit-learn.org/stable/modules/preprocessing.html"
      ]
    },
    {
      "cell_type": "markdown",
      "metadata": {
        "tags": [],
        "cell_id": "f49d8bdddb2b42e887dd22d1b31dafde",
        "deepnote_cell_type": "markdown",
        "id": "icWEUympCznV"
      },
      "source": [
        "### Transformaciones no lineales"
      ]
    },
    {
      "cell_type": "code",
      "metadata": {
        "tags": [],
        "cell_id": "fef7895e74924f2aa5be51e58fd86883",
        "source_hash": "2b6c2244",
        "execution_start": 1683077182901,
        "execution_millis": 49,
        "deepnote_to_be_reexecuted": false,
        "deepnote_cell_type": "code",
        "id": "nCF0vjfTCznW",
        "outputId": "e7ca7fc3-fc0a-4fae-d01f-21375d3ad88a"
      },
      "source": [
        "df = pd.read_csv('/work/platzi-curso-estadistica-descriptiva-2021/cars.csv')\n",
        "df.head(2)"
      ],
      "execution_count": null,
      "outputs": [
        {
          "output_type": "execute_result",
          "execution_count": 12,
          "data": {
            "application/vnd.deepnote.dataframe.v3+json": {
              "column_count": 30,
              "row_count": 2,
              "columns": [
                {
                  "name": "manufacturer_name",
                  "dtype": "object",
                  "stats": {
                    "unique_count": 1,
                    "nan_count": 0,
                    "categories": [
                      {
                        "name": "Subaru",
                        "count": 2
                      }
                    ]
                  }
                },
                {
                  "name": "model_name",
                  "dtype": "object",
                  "stats": {
                    "unique_count": 1,
                    "nan_count": 0,
                    "categories": [
                      {
                        "name": "Outback",
                        "count": 2
                      }
                    ]
                  }
                },
                {
                  "name": "transmission",
                  "dtype": "object",
                  "stats": {
                    "unique_count": 1,
                    "nan_count": 0,
                    "categories": [
                      {
                        "name": "automatic",
                        "count": 2
                      }
                    ]
                  }
                },
                {
                  "name": "color",
                  "dtype": "object",
                  "stats": {
                    "unique_count": 2,
                    "nan_count": 0,
                    "categories": [
                      {
                        "name": "silver",
                        "count": 1
                      },
                      {
                        "name": "blue",
                        "count": 1
                      }
                    ]
                  }
                },
                {
                  "name": "odometer_value",
                  "dtype": "int64",
                  "stats": {
                    "unique_count": 2,
                    "nan_count": 0,
                    "min": "190000",
                    "max": "290000",
                    "histogram": [
                      {
                        "bin_start": 190000,
                        "bin_end": 200000,
                        "count": 1
                      },
                      {
                        "bin_start": 200000,
                        "bin_end": 210000,
                        "count": 0
                      },
                      {
                        "bin_start": 210000,
                        "bin_end": 220000,
                        "count": 0
                      },
                      {
                        "bin_start": 220000,
                        "bin_end": 230000,
                        "count": 0
                      },
                      {
                        "bin_start": 230000,
                        "bin_end": 240000,
                        "count": 0
                      },
                      {
                        "bin_start": 240000,
                        "bin_end": 250000,
                        "count": 0
                      },
                      {
                        "bin_start": 250000,
                        "bin_end": 260000,
                        "count": 0
                      },
                      {
                        "bin_start": 260000,
                        "bin_end": 270000,
                        "count": 0
                      },
                      {
                        "bin_start": 270000,
                        "bin_end": 280000,
                        "count": 0
                      },
                      {
                        "bin_start": 280000,
                        "bin_end": 290000,
                        "count": 1
                      }
                    ]
                  }
                },
                {
                  "name": "year_produced",
                  "dtype": "int64",
                  "stats": {
                    "unique_count": 2,
                    "nan_count": 0,
                    "min": "2002",
                    "max": "2010",
                    "histogram": [
                      {
                        "bin_start": 2002,
                        "bin_end": 2002.8,
                        "count": 1
                      },
                      {
                        "bin_start": 2002.8,
                        "bin_end": 2003.6,
                        "count": 0
                      },
                      {
                        "bin_start": 2003.6,
                        "bin_end": 2004.4,
                        "count": 0
                      },
                      {
                        "bin_start": 2004.4,
                        "bin_end": 2005.2,
                        "count": 0
                      },
                      {
                        "bin_start": 2005.2,
                        "bin_end": 2006,
                        "count": 0
                      },
                      {
                        "bin_start": 2006,
                        "bin_end": 2006.8,
                        "count": 0
                      },
                      {
                        "bin_start": 2006.8,
                        "bin_end": 2007.6,
                        "count": 0
                      },
                      {
                        "bin_start": 2007.6,
                        "bin_end": 2008.4,
                        "count": 0
                      },
                      {
                        "bin_start": 2008.4,
                        "bin_end": 2009.2,
                        "count": 0
                      },
                      {
                        "bin_start": 2009.2,
                        "bin_end": 2010,
                        "count": 1
                      }
                    ]
                  }
                },
                {
                  "name": "engine_fuel",
                  "dtype": "object",
                  "stats": {
                    "unique_count": 1,
                    "nan_count": 0,
                    "categories": [
                      {
                        "name": "gasoline",
                        "count": 2
                      }
                    ]
                  }
                },
                {
                  "name": "engine_has_gas",
                  "dtype": "bool",
                  "stats": {
                    "unique_count": 1,
                    "nan_count": 0,
                    "categories": [
                      {
                        "name": "False",
                        "count": 2
                      }
                    ]
                  }
                },
                {
                  "name": "engine_type",
                  "dtype": "object",
                  "stats": {
                    "unique_count": 1,
                    "nan_count": 0,
                    "categories": [
                      {
                        "name": "gasoline",
                        "count": 2
                      }
                    ]
                  }
                },
                {
                  "name": "engine_capacity",
                  "dtype": "float64",
                  "stats": {
                    "unique_count": 2,
                    "nan_count": 0,
                    "min": "2.5",
                    "max": "3.0",
                    "histogram": [
                      {
                        "bin_start": 2.5,
                        "bin_end": 2.55,
                        "count": 1
                      },
                      {
                        "bin_start": 2.55,
                        "bin_end": 2.6,
                        "count": 0
                      },
                      {
                        "bin_start": 2.6,
                        "bin_end": 2.65,
                        "count": 0
                      },
                      {
                        "bin_start": 2.65,
                        "bin_end": 2.7,
                        "count": 0
                      },
                      {
                        "bin_start": 2.7,
                        "bin_end": 2.75,
                        "count": 0
                      },
                      {
                        "bin_start": 2.75,
                        "bin_end": 2.8,
                        "count": 0
                      },
                      {
                        "bin_start": 2.8,
                        "bin_end": 2.85,
                        "count": 0
                      },
                      {
                        "bin_start": 2.85,
                        "bin_end": 2.9,
                        "count": 0
                      },
                      {
                        "bin_start": 2.9,
                        "bin_end": 2.95,
                        "count": 0
                      },
                      {
                        "bin_start": 2.95,
                        "bin_end": 3,
                        "count": 1
                      }
                    ]
                  }
                },
                {
                  "name": "body_type",
                  "dtype": "object",
                  "stats": {
                    "unique_count": 1,
                    "nan_count": 0,
                    "categories": [
                      {
                        "name": "universal",
                        "count": 2
                      }
                    ]
                  }
                },
                {
                  "name": "has_warranty",
                  "dtype": "bool",
                  "stats": {
                    "unique_count": 1,
                    "nan_count": 0,
                    "categories": [
                      {
                        "name": "False",
                        "count": 2
                      }
                    ]
                  }
                },
                {
                  "name": "state",
                  "dtype": "object",
                  "stats": {
                    "unique_count": 1,
                    "nan_count": 0,
                    "categories": [
                      {
                        "name": "owned",
                        "count": 2
                      }
                    ]
                  }
                },
                {
                  "name": "drivetrain",
                  "dtype": "object",
                  "stats": {
                    "unique_count": 1,
                    "nan_count": 0,
                    "categories": [
                      {
                        "name": "all",
                        "count": 2
                      }
                    ]
                  }
                },
                {
                  "name": "price_usd",
                  "dtype": "float64",
                  "stats": {
                    "unique_count": 2,
                    "nan_count": 0,
                    "min": "5000.0",
                    "max": "10900.0",
                    "histogram": [
                      {
                        "bin_start": 5000,
                        "bin_end": 5590,
                        "count": 1
                      },
                      {
                        "bin_start": 5590,
                        "bin_end": 6180,
                        "count": 0
                      },
                      {
                        "bin_start": 6180,
                        "bin_end": 6770,
                        "count": 0
                      },
                      {
                        "bin_start": 6770,
                        "bin_end": 7360,
                        "count": 0
                      },
                      {
                        "bin_start": 7360,
                        "bin_end": 7950,
                        "count": 0
                      },
                      {
                        "bin_start": 7950,
                        "bin_end": 8540,
                        "count": 0
                      },
                      {
                        "bin_start": 8540,
                        "bin_end": 9130,
                        "count": 0
                      },
                      {
                        "bin_start": 9130,
                        "bin_end": 9720,
                        "count": 0
                      },
                      {
                        "bin_start": 9720,
                        "bin_end": 10310,
                        "count": 0
                      },
                      {
                        "bin_start": 10310,
                        "bin_end": 10900,
                        "count": 1
                      }
                    ]
                  }
                },
                {
                  "name": "is_exchangeable",
                  "dtype": "bool",
                  "stats": {
                    "unique_count": 2,
                    "nan_count": 0,
                    "categories": [
                      {
                        "name": "False",
                        "count": 1
                      },
                      {
                        "name": "True",
                        "count": 1
                      }
                    ]
                  }
                },
                {
                  "name": "location_region",
                  "dtype": "object",
                  "stats": {
                    "unique_count": 1,
                    "nan_count": 0,
                    "categories": [
                      {
                        "name": "Минская обл.",
                        "count": 2
                      }
                    ]
                  }
                },
                {
                  "name": "number_of_photos",
                  "dtype": "int64",
                  "stats": {
                    "unique_count": 2,
                    "nan_count": 0,
                    "min": "9",
                    "max": "12",
                    "histogram": [
                      {
                        "bin_start": 9,
                        "bin_end": 9.3,
                        "count": 1
                      },
                      {
                        "bin_start": 9.3,
                        "bin_end": 9.6,
                        "count": 0
                      },
                      {
                        "bin_start": 9.6,
                        "bin_end": 9.9,
                        "count": 0
                      },
                      {
                        "bin_start": 9.9,
                        "bin_end": 10.2,
                        "count": 0
                      },
                      {
                        "bin_start": 10.2,
                        "bin_end": 10.5,
                        "count": 0
                      },
                      {
                        "bin_start": 10.5,
                        "bin_end": 10.8,
                        "count": 0
                      },
                      {
                        "bin_start": 10.8,
                        "bin_end": 11.1,
                        "count": 0
                      },
                      {
                        "bin_start": 11.1,
                        "bin_end": 11.4,
                        "count": 0
                      },
                      {
                        "bin_start": 11.4,
                        "bin_end": 11.7,
                        "count": 0
                      },
                      {
                        "bin_start": 11.7,
                        "bin_end": 12,
                        "count": 1
                      }
                    ]
                  }
                },
                {
                  "name": "up_counter",
                  "dtype": "int64",
                  "stats": {
                    "unique_count": 2,
                    "nan_count": 0,
                    "min": "13",
                    "max": "54",
                    "histogram": [
                      {
                        "bin_start": 13,
                        "bin_end": 17.1,
                        "count": 1
                      },
                      {
                        "bin_start": 17.1,
                        "bin_end": 21.2,
                        "count": 0
                      },
                      {
                        "bin_start": 21.2,
                        "bin_end": 25.299999999999997,
                        "count": 0
                      },
                      {
                        "bin_start": 25.299999999999997,
                        "bin_end": 29.4,
                        "count": 0
                      },
                      {
                        "bin_start": 29.4,
                        "bin_end": 33.5,
                        "count": 0
                      },
                      {
                        "bin_start": 33.5,
                        "bin_end": 37.599999999999994,
                        "count": 0
                      },
                      {
                        "bin_start": 37.599999999999994,
                        "bin_end": 41.699999999999996,
                        "count": 0
                      },
                      {
                        "bin_start": 41.699999999999996,
                        "bin_end": 45.8,
                        "count": 0
                      },
                      {
                        "bin_start": 45.8,
                        "bin_end": 49.9,
                        "count": 0
                      },
                      {
                        "bin_start": 49.9,
                        "bin_end": 54,
                        "count": 1
                      }
                    ]
                  }
                },
                {
                  "name": "feature_0",
                  "dtype": "bool",
                  "stats": {
                    "unique_count": 1,
                    "nan_count": 0,
                    "categories": [
                      {
                        "name": "False",
                        "count": 2
                      }
                    ]
                  }
                },
                {
                  "name": "feature_1",
                  "dtype": "bool",
                  "stats": {
                    "unique_count": 1,
                    "nan_count": 0,
                    "categories": [
                      {
                        "name": "True",
                        "count": 2
                      }
                    ]
                  }
                },
                {
                  "name": "feature_2",
                  "dtype": "bool",
                  "stats": {
                    "unique_count": 2,
                    "nan_count": 0,
                    "categories": [
                      {
                        "name": "True",
                        "count": 1
                      },
                      {
                        "name": "False",
                        "count": 1
                      }
                    ]
                  }
                },
                {
                  "name": "feature_3",
                  "dtype": "bool",
                  "stats": {
                    "unique_count": 2,
                    "nan_count": 0,
                    "categories": [
                      {
                        "name": "True",
                        "count": 1
                      },
                      {
                        "name": "False",
                        "count": 1
                      }
                    ]
                  }
                },
                {
                  "name": "feature_4",
                  "dtype": "bool",
                  "stats": {
                    "unique_count": 2,
                    "nan_count": 0,
                    "categories": [
                      {
                        "name": "False",
                        "count": 1
                      },
                      {
                        "name": "True",
                        "count": 1
                      }
                    ]
                  }
                },
                {
                  "name": "feature_5",
                  "dtype": "bool",
                  "stats": {
                    "unique_count": 1,
                    "nan_count": 0,
                    "categories": [
                      {
                        "name": "True",
                        "count": 2
                      }
                    ]
                  }
                },
                {
                  "name": "feature_6",
                  "dtype": "bool",
                  "stats": {
                    "unique_count": 1,
                    "nan_count": 0,
                    "categories": [
                      {
                        "name": "False",
                        "count": 2
                      }
                    ]
                  }
                },
                {
                  "name": "feature_7",
                  "dtype": "bool",
                  "stats": {
                    "unique_count": 2,
                    "nan_count": 0,
                    "categories": [
                      {
                        "name": "True",
                        "count": 1
                      },
                      {
                        "name": "False",
                        "count": 1
                      }
                    ]
                  }
                },
                {
                  "name": "feature_8",
                  "dtype": "bool",
                  "stats": {
                    "unique_count": 2,
                    "nan_count": 0,
                    "categories": [
                      {
                        "name": "True",
                        "count": 1
                      },
                      {
                        "name": "False",
                        "count": 1
                      }
                    ]
                  }
                },
                {
                  "name": "feature_9",
                  "dtype": "bool",
                  "stats": {
                    "unique_count": 1,
                    "nan_count": 0,
                    "categories": [
                      {
                        "name": "True",
                        "count": 2
                      }
                    ]
                  }
                },
                {
                  "name": "duration_listed",
                  "dtype": "int64",
                  "stats": {
                    "unique_count": 2,
                    "nan_count": 0,
                    "min": "16",
                    "max": "83",
                    "histogram": [
                      {
                        "bin_start": 16,
                        "bin_end": 22.7,
                        "count": 1
                      },
                      {
                        "bin_start": 22.7,
                        "bin_end": 29.4,
                        "count": 0
                      },
                      {
                        "bin_start": 29.4,
                        "bin_end": 36.1,
                        "count": 0
                      },
                      {
                        "bin_start": 36.1,
                        "bin_end": 42.8,
                        "count": 0
                      },
                      {
                        "bin_start": 42.8,
                        "bin_end": 49.5,
                        "count": 0
                      },
                      {
                        "bin_start": 49.5,
                        "bin_end": 56.2,
                        "count": 0
                      },
                      {
                        "bin_start": 56.2,
                        "bin_end": 62.9,
                        "count": 0
                      },
                      {
                        "bin_start": 62.9,
                        "bin_end": 69.6,
                        "count": 0
                      },
                      {
                        "bin_start": 69.6,
                        "bin_end": 76.30000000000001,
                        "count": 0
                      },
                      {
                        "bin_start": 76.30000000000001,
                        "bin_end": 83,
                        "count": 1
                      }
                    ]
                  }
                },
                {
                  "name": "_deepnote_index_column",
                  "dtype": "int64"
                }
              ],
              "rows": [
                {
                  "manufacturer_name": "Subaru",
                  "model_name": "Outback",
                  "transmission": "automatic",
                  "color": "silver",
                  "odometer_value": "190000",
                  "year_produced": "2010",
                  "engine_fuel": "gasoline",
                  "engine_has_gas": "False",
                  "engine_type": "gasoline",
                  "engine_capacity": "2.5",
                  "body_type": "universal",
                  "has_warranty": "False",
                  "state": "owned",
                  "drivetrain": "all",
                  "price_usd": "10900.0",
                  "is_exchangeable": "False",
                  "location_region": "Минская обл.",
                  "number_of_photos": "9",
                  "up_counter": "13",
                  "feature_0": "False",
                  "feature_1": "True",
                  "feature_2": "True",
                  "feature_3": "True",
                  "feature_4": "False",
                  "feature_5": "True",
                  "feature_6": "False",
                  "feature_7": "True",
                  "feature_8": "True",
                  "feature_9": "True",
                  "duration_listed": "16",
                  "_deepnote_index_column": "0"
                },
                {
                  "manufacturer_name": "Subaru",
                  "model_name": "Outback",
                  "transmission": "automatic",
                  "color": "blue",
                  "odometer_value": "290000",
                  "year_produced": "2002",
                  "engine_fuel": "gasoline",
                  "engine_has_gas": "False",
                  "engine_type": "gasoline",
                  "engine_capacity": "3.0",
                  "body_type": "universal",
                  "has_warranty": "False",
                  "state": "owned",
                  "drivetrain": "all",
                  "price_usd": "5000.0",
                  "is_exchangeable": "True",
                  "location_region": "Минская обл.",
                  "number_of_photos": "12",
                  "up_counter": "54",
                  "feature_0": "False",
                  "feature_1": "True",
                  "feature_2": "False",
                  "feature_3": "False",
                  "feature_4": "True",
                  "feature_5": "True",
                  "feature_6": "False",
                  "feature_7": "False",
                  "feature_8": "False",
                  "feature_9": "True",
                  "duration_listed": "83",
                  "_deepnote_index_column": "1"
                }
              ]
            },
            "text/plain": "  manufacturer_name model_name transmission   color  odometer_value  \\\n0            Subaru    Outback    automatic  silver          190000   \n1            Subaru    Outback    automatic    blue          290000   \n\n   year_produced engine_fuel  engine_has_gas engine_type  engine_capacity  \\\n0           2010    gasoline           False    gasoline              2.5   \n1           2002    gasoline           False    gasoline              3.0   \n\n   ... feature_1  feature_2 feature_3 feature_4  feature_5  feature_6  \\\n0  ...      True       True      True     False       True      False   \n1  ...      True      False     False      True       True      False   \n\n  feature_7  feature_8  feature_9  duration_listed  \n0      True       True       True               16  \n1     False      False       True               83  \n\n[2 rows x 30 columns]",
            "text/html": "<div>\n<style scoped>\n    .dataframe tbody tr th:only-of-type {\n        vertical-align: middle;\n    }\n\n    .dataframe tbody tr th {\n        vertical-align: top;\n    }\n\n    .dataframe thead th {\n        text-align: right;\n    }\n</style>\n<table border=\"1\" class=\"dataframe\">\n  <thead>\n    <tr style=\"text-align: right;\">\n      <th></th>\n      <th>manufacturer_name</th>\n      <th>model_name</th>\n      <th>transmission</th>\n      <th>color</th>\n      <th>odometer_value</th>\n      <th>year_produced</th>\n      <th>engine_fuel</th>\n      <th>engine_has_gas</th>\n      <th>engine_type</th>\n      <th>engine_capacity</th>\n      <th>...</th>\n      <th>feature_1</th>\n      <th>feature_2</th>\n      <th>feature_3</th>\n      <th>feature_4</th>\n      <th>feature_5</th>\n      <th>feature_6</th>\n      <th>feature_7</th>\n      <th>feature_8</th>\n      <th>feature_9</th>\n      <th>duration_listed</th>\n    </tr>\n  </thead>\n  <tbody>\n    <tr>\n      <th>0</th>\n      <td>Subaru</td>\n      <td>Outback</td>\n      <td>automatic</td>\n      <td>silver</td>\n      <td>190000</td>\n      <td>2010</td>\n      <td>gasoline</td>\n      <td>False</td>\n      <td>gasoline</td>\n      <td>2.5</td>\n      <td>...</td>\n      <td>True</td>\n      <td>True</td>\n      <td>True</td>\n      <td>False</td>\n      <td>True</td>\n      <td>False</td>\n      <td>True</td>\n      <td>True</td>\n      <td>True</td>\n      <td>16</td>\n    </tr>\n    <tr>\n      <th>1</th>\n      <td>Subaru</td>\n      <td>Outback</td>\n      <td>automatic</td>\n      <td>blue</td>\n      <td>290000</td>\n      <td>2002</td>\n      <td>gasoline</td>\n      <td>False</td>\n      <td>gasoline</td>\n      <td>3.0</td>\n      <td>...</td>\n      <td>True</td>\n      <td>False</td>\n      <td>False</td>\n      <td>True</td>\n      <td>True</td>\n      <td>False</td>\n      <td>False</td>\n      <td>False</td>\n      <td>True</td>\n      <td>83</td>\n    </tr>\n  </tbody>\n</table>\n<p>2 rows × 30 columns</p>\n</div>"
          },
          "metadata": {}
        }
      ]
    },
    {
      "cell_type": "code",
      "metadata": {
        "tags": [],
        "cell_id": "75da2f38c6c64f3ebac404113826beec",
        "source_hash": "1d9343bd",
        "output_cleared": false,
        "execution_start": 1622485028869,
        "execution_millis": 263,
        "deepnote_to_be_reexecuted": false,
        "deepnote_cell_type": "code",
        "id": "1uIINL-UCznX",
        "outputId": "5cc522a6-0d6d-4583-eb31-14344cb6b9ae"
      },
      "source": [
        "df.price_usd.hist()"
      ],
      "execution_count": null,
      "outputs": [
        {
          "output_type": "execute_result",
          "execution_count": 8,
          "data": {
            "text/plain": "<AxesSubplot:>"
          },
          "metadata": {}
        },
        {
          "data": {
            "text/plain": "<Figure size 432x288 with 1 Axes>",
            "image/png": "[encoded data removed]"
          },
          "metadata": {
            "needs_background": "light",
            "image/png": {
              "width": 388,
              "height": 248
            }
          },
          "output_type": "display_data"
        }
      ]
    },
    {
      "cell_type": "markdown",
      "metadata": {
        "tags": [],
        "cell_id": "e41ae740e9dc46fdb62a51fe6f706a21",
        "deepnote_cell_type": "markdown",
        "id": "qxu4pyOSCznX"
      },
      "source": [
        "Transformación con $$tanh(x)$$"
      ]
    },
    {
      "cell_type": "code",
      "metadata": {
        "tags": [],
        "cell_id": "4908ca505cd04ff582e18973f63e43d8",
        "source_hash": "45297aa3",
        "output_cleared": false,
        "execution_start": 1622485031705,
        "execution_millis": 277,
        "deepnote_to_be_reexecuted": false,
        "deepnote_cell_type": "code",
        "id": "ZLNEOwB1CznY",
        "outputId": "2cca9bd4-807e-4d57-ef9a-3a3922b961c4"
      },
      "source": [
        "p = 10000\n",
        "df.price_usd.apply(lambda x: np.tanh(x/p)).hist()"
      ],
      "execution_count": null,
      "outputs": [
        {
          "output_type": "execute_result",
          "execution_count": 9,
          "data": {
            "text/plain": "<AxesSubplot:>"
          },
          "metadata": {}
        },
        {
          "data": {
            "text/plain": "<Figure size 432x288 with 1 Axes>",
            "image/png": "[encoded data removed]"
          },
          "metadata": {
            "needs_background": "light",
            "image/png": {
              "width": 381,
              "height": 248
            }
          },
          "output_type": "display_data"
        }
      ]
    },
    {
      "cell_type": "markdown",
      "metadata": {
        "tags": [],
        "cell_id": "7b0140f92ff348e293ecf91b518c03a7",
        "deepnote_cell_type": "markdown",
        "id": "voOfMYVPCznZ"
      },
      "source": [
        "* mapear datos a una distribucion gaussiana: https://scikit-learn.org/stable/auto_examples/preprocessing/plot_map_data_to_normal.html#sphx-glr-auto-examples-preprocessing-plot-map-data-to-normal-py"
      ]
    },
    {
      "cell_type": "markdown",
      "source": [
        "<a style='text-decoration:none;line-height:16px;display:flex;color:#5B5B62;padding:10px;justify-content:end;' href='https://deepnote.com?utm_source=created-in-deepnote-cell&projectId=ebf36962-a640-448e-88bb-60200c86a4dd' target=\"_blank\">\n",
        "<img alt='Created in deepnote.com' style='display:inline;max-height:16px;margin:0px;margin-right:7.5px;' src='data:image/svg+xml;base64,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' > </img>\n",
        "Created in <span style='font-weight:600;margin-left:4px;'>Deepnote</span></a>"
      ],
      "metadata": {
        "created_in_deepnote_cell": true,
        "deepnote_cell_type": "markdown",
        "id": "LydBmDMJCznZ"
      }
    }
  ],
  "nbformat": 4,
  "nbformat_minor": 0,
  "metadata": {
    "deepnote_persisted_session": {
      "createdAt": "2023-05-03T01:46:22.390Z"
    },
    "deepnote_notebook_id": "404c8cd5ef3c41c98f74b7b8e9395b86",
    "deepnote_execution_queue": [],
    "colab": {
      "provenance": [],
      "include_colab_link": true
    }
  }
}